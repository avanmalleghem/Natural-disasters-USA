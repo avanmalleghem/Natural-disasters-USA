{
 "cells": [
  {
   "cell_type": "code",
   "execution_count": 1,
   "metadata": {},
   "outputs": [],
   "source": [
    "import numpy as np\n",
    "import pandas as pd\n",
    "import matplotlib.pyplot as plt\n",
    "\n",
    "%matplotlib notebook"
   ]
  },
  {
   "cell_type": "markdown",
   "metadata": {},
   "source": [
    "The first dataset comes from the [U.S. Government’s open data](https://www.data.gov/). Here is the official description of the dataset (can be found [here](https://catalog.data.gov/dataset/disaster-declaration)):"
   ]
  },
  {
   "cell_type": "markdown",
   "metadata": {},
   "source": [
    "<center>The FEMA Disaster Declarations Summary is a summarized dataset describing all <b>federally declared disasters</b>, starting with the first disaster declaration in <b>1953</b>, featuring all three disaster declaration types: major disaster, emergency and fire management assistance. </center>"
   ]
  },
  {
   "cell_type": "code",
   "execution_count": 3,
   "metadata": {
    "scrolled": true
   },
   "outputs": [],
   "source": [
    "df = pd.read_excel(\"https://www.fema.gov/media-library-data/\" +\n",
    "                   \"1552661411911-55ceb500e0427af9f3724fcf916645f0/data.gov.FEMADeclarations.3.15.19.xlsx\",\n",
    "                   sheet_name=\"FEMA Declarations\",\n",
    "                   usecols=[\"Declaration Date\",\n",
    "                            \"Disaster Number\", \n",
    "                            \"State \", \n",
    "                            \"Disaster Type\", \n",
    "                            \"Incident Type\", \n",
    "                            \"Title\", \n",
    "                            \"Incident Begin Date\", \n",
    "                            \"Incident End Date\"],\n",
    "                   header=2)"
   ]
  },
  {
   "cell_type": "code",
   "execution_count": 4,
   "metadata": {},
   "outputs": [
    {
     "data": {
      "text/html": [
       "<div>\n",
       "<style scoped>\n",
       "    .dataframe tbody tr th:only-of-type {\n",
       "        vertical-align: middle;\n",
       "    }\n",
       "\n",
       "    .dataframe tbody tr th {\n",
       "        vertical-align: top;\n",
       "    }\n",
       "\n",
       "    .dataframe thead th {\n",
       "        text-align: right;\n",
       "    }\n",
       "</style>\n",
       "<table border=\"1\" class=\"dataframe\">\n",
       "  <thead>\n",
       "    <tr style=\"text-align: right;\">\n",
       "      <th></th>\n",
       "      <th>Disaster Number</th>\n",
       "      <th>State</th>\n",
       "      <th>Declaration Date</th>\n",
       "      <th>Disaster Type</th>\n",
       "      <th>Incident Type</th>\n",
       "      <th>Title</th>\n",
       "      <th>Incident Begin Date</th>\n",
       "      <th>Incident End Date</th>\n",
       "    </tr>\n",
       "  </thead>\n",
       "  <tbody>\n",
       "    <tr>\n",
       "      <th>0</th>\n",
       "      <td>4419</td>\n",
       "      <td>AL</td>\n",
       "      <td>2019-03-05 17:33:00</td>\n",
       "      <td>DR</td>\n",
       "      <td>Tornado</td>\n",
       "      <td>SEVERE STORMS, STRAIGHT-LINE WINDS, AND TORNADOES</td>\n",
       "      <td>2019-03-03 00:01:00</td>\n",
       "      <td>2019-03-03 23:59:00</td>\n",
       "    </tr>\n",
       "    <tr>\n",
       "      <th>1</th>\n",
       "      <td>4418</td>\n",
       "      <td>WA</td>\n",
       "      <td>2019-03-04 14:38:00</td>\n",
       "      <td>DR</td>\n",
       "      <td>Severe Storm(s)</td>\n",
       "      <td>SEVERE WINTER STORMS, STRAIGHT-LINE WINDS, FLO...</td>\n",
       "      <td>2018-12-10 00:00:00</td>\n",
       "      <td>2018-12-24 00:00:00</td>\n",
       "    </tr>\n",
       "    <tr>\n",
       "      <th>2</th>\n",
       "      <td>4418</td>\n",
       "      <td>WA</td>\n",
       "      <td>2019-03-04 14:38:00</td>\n",
       "      <td>DR</td>\n",
       "      <td>Severe Storm(s)</td>\n",
       "      <td>SEVERE WINTER STORMS, STRAIGHT-LINE WINDS, FLO...</td>\n",
       "      <td>2018-12-10 00:00:00</td>\n",
       "      <td>2018-12-24 00:00:00</td>\n",
       "    </tr>\n",
       "    <tr>\n",
       "      <th>3</th>\n",
       "      <td>4418</td>\n",
       "      <td>WA</td>\n",
       "      <td>2019-03-04 14:38:00</td>\n",
       "      <td>DR</td>\n",
       "      <td>Severe Storm(s)</td>\n",
       "      <td>SEVERE WINTER STORMS, STRAIGHT-LINE WINDS, FLO...</td>\n",
       "      <td>2018-12-10 00:00:00</td>\n",
       "      <td>2018-12-24 00:00:00</td>\n",
       "    </tr>\n",
       "    <tr>\n",
       "      <th>4</th>\n",
       "      <td>4418</td>\n",
       "      <td>WA</td>\n",
       "      <td>2019-03-04 14:38:00</td>\n",
       "      <td>DR</td>\n",
       "      <td>Severe Storm(s)</td>\n",
       "      <td>SEVERE WINTER STORMS, STRAIGHT-LINE WINDS, FLO...</td>\n",
       "      <td>2018-12-10 00:00:00</td>\n",
       "      <td>2018-12-24 00:00:00</td>\n",
       "    </tr>\n",
       "  </tbody>\n",
       "</table>\n",
       "</div>"
      ],
      "text/plain": [
       "   Disaster Number State     Declaration Date Disaster Type    Incident Type  \\\n",
       "0             4419     AL 2019-03-05 17:33:00            DR          Tornado   \n",
       "1             4418     WA 2019-03-04 14:38:00            DR  Severe Storm(s)   \n",
       "2             4418     WA 2019-03-04 14:38:00            DR  Severe Storm(s)   \n",
       "3             4418     WA 2019-03-04 14:38:00            DR  Severe Storm(s)   \n",
       "4             4418     WA 2019-03-04 14:38:00            DR  Severe Storm(s)   \n",
       "\n",
       "                                               Title Incident Begin Date  \\\n",
       "0  SEVERE STORMS, STRAIGHT-LINE WINDS, AND TORNADOES 2019-03-03 00:01:00   \n",
       "1  SEVERE WINTER STORMS, STRAIGHT-LINE WINDS, FLO... 2018-12-10 00:00:00   \n",
       "2  SEVERE WINTER STORMS, STRAIGHT-LINE WINDS, FLO... 2018-12-10 00:00:00   \n",
       "3  SEVERE WINTER STORMS, STRAIGHT-LINE WINDS, FLO... 2018-12-10 00:00:00   \n",
       "4  SEVERE WINTER STORMS, STRAIGHT-LINE WINDS, FLO... 2018-12-10 00:00:00   \n",
       "\n",
       "    Incident End Date  \n",
       "0 2019-03-03 23:59:00  \n",
       "1 2018-12-24 00:00:00  \n",
       "2 2018-12-24 00:00:00  \n",
       "3 2018-12-24 00:00:00  \n",
       "4 2018-12-24 00:00:00  "
      ]
     },
     "execution_count": 4,
     "metadata": {},
     "output_type": "execute_result"
    }
   ],
   "source": [
    "df.head()"
   ]
  },
  {
   "cell_type": "code",
   "execution_count": 5,
   "metadata": {},
   "outputs": [
    {
     "name": "stdout",
     "output_type": "stream",
     "text": [
      "<class 'pandas.core.frame.DataFrame'>\n",
      "RangeIndex: 48555 entries, 0 to 48554\n",
      "Data columns (total 8 columns):\n",
      "Disaster Number        48555 non-null int64\n",
      "State                  48555 non-null object\n",
      "Declaration Date       48555 non-null datetime64[ns]\n",
      "Disaster Type          48555 non-null object\n",
      "Incident Type          48555 non-null object\n",
      "Title                  48555 non-null object\n",
      "Incident Begin Date    48555 non-null datetime64[ns]\n",
      "Incident End Date      48216 non-null datetime64[ns]\n",
      "dtypes: datetime64[ns](3), int64(1), object(4)\n",
      "memory usage: 2.2+ MB\n"
     ]
    }
   ],
   "source": [
    "df.info()"
   ]
  },
  {
   "cell_type": "code",
   "execution_count": 6,
   "metadata": {},
   "outputs": [
    {
     "data": {
      "text/plain": [
       "array(['Tornado', 'Severe Storm(s)', 'Flood', 'Hurricane', 'Earthquake',\n",
       "       'Fire', 'Typhoon', 'Snow', 'Coastal Storm', 'Volcano',\n",
       "       'Mud/Landslide', 'Severe Ice Storm', 'Dam/Levee Break',\n",
       "       'Toxic Substances', 'Chemical', 'Other', 'Terrorist', 'Freezing',\n",
       "       'Tsunami', 'Drought', 'Human Cause', 'Fishing Losses'],\n",
       "      dtype=object)"
      ]
     },
     "execution_count": 6,
     "metadata": {},
     "output_type": "execute_result"
    }
   ],
   "source": [
    "df[\"Incident Type\"].unique()"
   ]
  }
 ],
 "metadata": {
  "kernelspec": {
   "display_name": "venv",
   "language": "python",
   "name": "venv"
  },
  "language_info": {
   "codemirror_mode": {
    "name": "ipython",
    "version": 3
   },
   "file_extension": ".py",
   "mimetype": "text/x-python",
   "name": "python",
   "nbconvert_exporter": "python",
   "pygments_lexer": "ipython3",
   "version": "3.6.4"
  }
 },
 "nbformat": 4,
 "nbformat_minor": 2
}
