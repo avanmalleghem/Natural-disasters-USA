{
 "cells": [
  {
   "cell_type": "code",
   "execution_count": 47,
   "metadata": {},
   "outputs": [],
   "source": [
    "import numpy as np\n",
    "import pandas as pd\n",
    "import matplotlib.pyplot as plt\n",
    "\n",
    "%matplotlib notebook"
   ]
  },
  {
   "cell_type": "markdown",
   "metadata": {},
   "source": [
    "The first dataset comes from the [U.S. Government’s open data](https://www.data.gov/). Here is the official description of the dataset (can be found [here](https://catalog.data.gov/dataset/disaster-declaration)):\n",
    "<center>The FEMA Disaster Declarations Summary is a summarized dataset describing all <b>federally declared disasters</b>, starting with the first disaster declaration in <b>1953</b>, featuring all three disaster declaration types: major disaster, emergency and fire management assistance. </center>"
   ]
  },
  {
   "cell_type": "code",
   "execution_count": 48,
   "metadata": {
    "scrolled": false
   },
   "outputs": [
    {
     "data": {
      "text/html": [
       "<div>\n",
       "<style scoped>\n",
       "    .dataframe tbody tr th:only-of-type {\n",
       "        vertical-align: middle;\n",
       "    }\n",
       "\n",
       "    .dataframe tbody tr th {\n",
       "        vertical-align: top;\n",
       "    }\n",
       "\n",
       "    .dataframe thead th {\n",
       "        text-align: right;\n",
       "    }\n",
       "</style>\n",
       "<table border=\"1\" class=\"dataframe\">\n",
       "  <thead>\n",
       "    <tr style=\"text-align: right;\">\n",
       "      <th></th>\n",
       "      <th>Disaster Number</th>\n",
       "      <th>State</th>\n",
       "      <th>Declaration Date</th>\n",
       "      <th>Disaster Type</th>\n",
       "      <th>Incident Type</th>\n",
       "      <th>Title</th>\n",
       "      <th>Incident Begin Date</th>\n",
       "      <th>Incident End Date</th>\n",
       "    </tr>\n",
       "  </thead>\n",
       "  <tbody>\n",
       "    <tr>\n",
       "      <th>0</th>\n",
       "      <td>4419</td>\n",
       "      <td>AL</td>\n",
       "      <td>2019-03-05 17:33:00</td>\n",
       "      <td>DR</td>\n",
       "      <td>Tornado</td>\n",
       "      <td>SEVERE STORMS, STRAIGHT-LINE WINDS, AND TORNADOES</td>\n",
       "      <td>2019-03-03 00:01:00</td>\n",
       "      <td>2019-03-03 23:59:00</td>\n",
       "    </tr>\n",
       "    <tr>\n",
       "      <th>1</th>\n",
       "      <td>4418</td>\n",
       "      <td>WA</td>\n",
       "      <td>2019-03-04 14:38:00</td>\n",
       "      <td>DR</td>\n",
       "      <td>Severe Storm(s)</td>\n",
       "      <td>SEVERE WINTER STORMS, STRAIGHT-LINE WINDS, FLO...</td>\n",
       "      <td>2018-12-10 00:00:00</td>\n",
       "      <td>2018-12-24 00:00:00</td>\n",
       "    </tr>\n",
       "    <tr>\n",
       "      <th>2</th>\n",
       "      <td>4418</td>\n",
       "      <td>WA</td>\n",
       "      <td>2019-03-04 14:38:00</td>\n",
       "      <td>DR</td>\n",
       "      <td>Severe Storm(s)</td>\n",
       "      <td>SEVERE WINTER STORMS, STRAIGHT-LINE WINDS, FLO...</td>\n",
       "      <td>2018-12-10 00:00:00</td>\n",
       "      <td>2018-12-24 00:00:00</td>\n",
       "    </tr>\n",
       "    <tr>\n",
       "      <th>3</th>\n",
       "      <td>4418</td>\n",
       "      <td>WA</td>\n",
       "      <td>2019-03-04 14:38:00</td>\n",
       "      <td>DR</td>\n",
       "      <td>Severe Storm(s)</td>\n",
       "      <td>SEVERE WINTER STORMS, STRAIGHT-LINE WINDS, FLO...</td>\n",
       "      <td>2018-12-10 00:00:00</td>\n",
       "      <td>2018-12-24 00:00:00</td>\n",
       "    </tr>\n",
       "    <tr>\n",
       "      <th>4</th>\n",
       "      <td>4418</td>\n",
       "      <td>WA</td>\n",
       "      <td>2019-03-04 14:38:00</td>\n",
       "      <td>DR</td>\n",
       "      <td>Severe Storm(s)</td>\n",
       "      <td>SEVERE WINTER STORMS, STRAIGHT-LINE WINDS, FLO...</td>\n",
       "      <td>2018-12-10 00:00:00</td>\n",
       "      <td>2018-12-24 00:00:00</td>\n",
       "    </tr>\n",
       "  </tbody>\n",
       "</table>\n",
       "</div>"
      ],
      "text/plain": [
       "   Disaster Number State    Declaration Date Disaster Type    Incident Type  \\\n",
       "0             4419    AL 2019-03-05 17:33:00            DR          Tornado   \n",
       "1             4418    WA 2019-03-04 14:38:00            DR  Severe Storm(s)   \n",
       "2             4418    WA 2019-03-04 14:38:00            DR  Severe Storm(s)   \n",
       "3             4418    WA 2019-03-04 14:38:00            DR  Severe Storm(s)   \n",
       "4             4418    WA 2019-03-04 14:38:00            DR  Severe Storm(s)   \n",
       "\n",
       "                                               Title Incident Begin Date  \\\n",
       "0  SEVERE STORMS, STRAIGHT-LINE WINDS, AND TORNADOES 2019-03-03 00:01:00   \n",
       "1  SEVERE WINTER STORMS, STRAIGHT-LINE WINDS, FLO... 2018-12-10 00:00:00   \n",
       "2  SEVERE WINTER STORMS, STRAIGHT-LINE WINDS, FLO... 2018-12-10 00:00:00   \n",
       "3  SEVERE WINTER STORMS, STRAIGHT-LINE WINDS, FLO... 2018-12-10 00:00:00   \n",
       "4  SEVERE WINTER STORMS, STRAIGHT-LINE WINDS, FLO... 2018-12-10 00:00:00   \n",
       "\n",
       "    Incident End Date  \n",
       "0 2019-03-03 23:59:00  \n",
       "1 2018-12-24 00:00:00  \n",
       "2 2018-12-24 00:00:00  \n",
       "3 2018-12-24 00:00:00  \n",
       "4 2018-12-24 00:00:00  "
      ]
     },
     "execution_count": 48,
     "metadata": {},
     "output_type": "execute_result"
    }
   ],
   "source": [
    "df = pd.read_excel(\"https://www.fema.gov/media-library-data/\" +\n",
    "                   \"1552661411911-55ceb500e0427af9f3724fcf916645f0/data.gov.FEMADeclarations.3.15.19.xlsx\",\n",
    "                   sheet_name=\"FEMA Declarations\",\n",
    "                   usecols=[\"Declaration Date\",\n",
    "                            \"Disaster Number\", \n",
    "                            \"State \", \n",
    "                            \"Disaster Type\", \n",
    "                            \"Incident Type\", \n",
    "                            \"Title\", \n",
    "                            \"Incident Begin Date\", \n",
    "                            \"Incident End Date\"],\n",
    "                   dtype={\"Disaster Type\" : 'category', \n",
    "                          \"Incident Type\" : 'category',\n",
    "                          \"State \" : 'category'\n",
    "                         },\n",
    "                   header=2)\n",
    "df.rename({\"State \" : \"State\"}, inplace=True, axis=1)\n",
    "df.head()"
   ]
  },
  {
   "cell_type": "code",
   "execution_count": 49,
   "metadata": {
    "scrolled": true
   },
   "outputs": [
    {
     "name": "stdout",
     "output_type": "stream",
     "text": [
      "<class 'pandas.core.frame.DataFrame'>\n",
      "RangeIndex: 48555 entries, 0 to 48554\n",
      "Data columns (total 8 columns):\n",
      "Disaster Number        48555 non-null int64\n",
      "State                  48555 non-null category\n",
      "Declaration Date       48555 non-null datetime64[ns]\n",
      "Disaster Type          48555 non-null category\n",
      "Incident Type          48555 non-null category\n",
      "Title                  48555 non-null object\n",
      "Incident Begin Date    48555 non-null datetime64[ns]\n",
      "Incident End Date      48216 non-null datetime64[ns]\n",
      "dtypes: category(3), datetime64[ns](3), int64(1), object(1)\n",
      "memory usage: 1.8+ MB\n"
     ]
    }
   ],
   "source": [
    "df.info()"
   ]
  },
  {
   "cell_type": "markdown",
   "metadata": {},
   "source": [
    "According to the MetaData sheet into the xlsx file, the **Disaster Number** column is a number used to designate an event declared as a disaster."
   ]
  },
  {
   "cell_type": "code",
   "execution_count": 50,
   "metadata": {},
   "outputs": [
    {
     "data": {
      "text/plain": [
       "1239    257\n",
       "3261    255\n",
       "3216    254\n",
       "1624    254\n",
       "1606    254\n",
       "       ... \n",
       "2706      1\n",
       "2957      1\n",
       "2674      1\n",
       "2424      1\n",
       "1495      1\n",
       "Name: Disaster Number, Length: 3568, dtype: int64"
      ]
     },
     "execution_count": 50,
     "metadata": {},
     "output_type": "execute_result"
    }
   ],
   "source": [
    "disaster_number_counts = df[\"Disaster Number\"].value_counts()\n",
    "disaster_number_counts"
   ]
  },
  {
   "cell_type": "markdown",
   "metadata": {},
   "source": [
    "We see that this number isn't unique. Let's analyse a sample for a non-unique Disaster Number."
   ]
  },
  {
   "cell_type": "code",
   "execution_count": 51,
   "metadata": {
    "scrolled": true
   },
   "outputs": [
    {
     "data": {
      "text/html": [
       "<div>\n",
       "<style scoped>\n",
       "    .dataframe tbody tr th:only-of-type {\n",
       "        vertical-align: middle;\n",
       "    }\n",
       "\n",
       "    .dataframe tbody tr th {\n",
       "        vertical-align: top;\n",
       "    }\n",
       "\n",
       "    .dataframe thead th {\n",
       "        text-align: right;\n",
       "    }\n",
       "</style>\n",
       "<table border=\"1\" class=\"dataframe\">\n",
       "  <thead>\n",
       "    <tr style=\"text-align: right;\">\n",
       "      <th></th>\n",
       "      <th>Disaster Number</th>\n",
       "      <th>State</th>\n",
       "      <th>Declaration Date</th>\n",
       "      <th>Disaster Type</th>\n",
       "      <th>Incident Type</th>\n",
       "      <th>Title</th>\n",
       "      <th>Incident Begin Date</th>\n",
       "      <th>Incident End Date</th>\n",
       "    </tr>\n",
       "  </thead>\n",
       "  <tbody>\n",
       "    <tr>\n",
       "      <th>31127</th>\n",
       "      <td>1239</td>\n",
       "      <td>TX</td>\n",
       "      <td>1998-08-26 15:50:08</td>\n",
       "      <td>DR</td>\n",
       "      <td>Severe Storm(s)</td>\n",
       "      <td>TROPICAL STORM CHARLEY</td>\n",
       "      <td>1998-08-22 13:55:00</td>\n",
       "      <td>1998-08-31 12:00:00</td>\n",
       "    </tr>\n",
       "    <tr>\n",
       "      <th>31110</th>\n",
       "      <td>1239</td>\n",
       "      <td>TX</td>\n",
       "      <td>1998-08-26 15:50:08</td>\n",
       "      <td>DR</td>\n",
       "      <td>Severe Storm(s)</td>\n",
       "      <td>TROPICAL STORM CHARLEY</td>\n",
       "      <td>1998-08-22 13:55:00</td>\n",
       "      <td>1998-08-31 12:00:00</td>\n",
       "    </tr>\n",
       "    <tr>\n",
       "      <th>30929</th>\n",
       "      <td>1239</td>\n",
       "      <td>TX</td>\n",
       "      <td>1998-08-26 15:50:08</td>\n",
       "      <td>DR</td>\n",
       "      <td>Severe Storm(s)</td>\n",
       "      <td>TROPICAL STORM CHARLEY</td>\n",
       "      <td>1998-08-22 13:55:00</td>\n",
       "      <td>1998-08-31 12:00:00</td>\n",
       "    </tr>\n",
       "    <tr>\n",
       "      <th>31073</th>\n",
       "      <td>1239</td>\n",
       "      <td>TX</td>\n",
       "      <td>1998-08-26 15:50:08</td>\n",
       "      <td>DR</td>\n",
       "      <td>Severe Storm(s)</td>\n",
       "      <td>TROPICAL STORM CHARLEY</td>\n",
       "      <td>1998-08-22 13:55:00</td>\n",
       "      <td>1998-08-31 12:00:00</td>\n",
       "    </tr>\n",
       "  </tbody>\n",
       "</table>\n",
       "</div>"
      ],
      "text/plain": [
       "       Disaster Number State    Declaration Date Disaster Type  \\\n",
       "31127             1239    TX 1998-08-26 15:50:08            DR   \n",
       "31110             1239    TX 1998-08-26 15:50:08            DR   \n",
       "30929             1239    TX 1998-08-26 15:50:08            DR   \n",
       "31073             1239    TX 1998-08-26 15:50:08            DR   \n",
       "\n",
       "         Incident Type                   Title Incident Begin Date  \\\n",
       "31127  Severe Storm(s)  TROPICAL STORM CHARLEY 1998-08-22 13:55:00   \n",
       "31110  Severe Storm(s)  TROPICAL STORM CHARLEY 1998-08-22 13:55:00   \n",
       "30929  Severe Storm(s)  TROPICAL STORM CHARLEY 1998-08-22 13:55:00   \n",
       "31073  Severe Storm(s)  TROPICAL STORM CHARLEY 1998-08-22 13:55:00   \n",
       "\n",
       "        Incident End Date  \n",
       "31127 1998-08-31 12:00:00  \n",
       "31110 1998-08-31 12:00:00  \n",
       "30929 1998-08-31 12:00:00  \n",
       "31073 1998-08-31 12:00:00  "
      ]
     },
     "execution_count": 51,
     "metadata": {},
     "output_type": "execute_result"
    }
   ],
   "source": [
    "index = 0\n",
    "most_occured_disaster_number = df.loc[disaster_number_counts.index[index] == df[\"Disaster Number\"]]\n",
    "most_occured_disaster_number.sample(4)"
   ]
  },
  {
   "cell_type": "markdown",
   "metadata": {},
   "source": [
    "It looks like these rows are redundant. Let's verify it for each column for this given index."
   ]
  },
  {
   "cell_type": "code",
   "execution_count": 52,
   "metadata": {
    "scrolled": true
   },
   "outputs": [
    {
     "name": "stdout",
     "output_type": "stream",
     "text": [
      "Disaster Number contains only 1 element : True\n",
      "State contains only 1 element : True\n",
      "Declaration Date contains only 1 element : True\n",
      "Disaster Type contains only 1 element : True\n",
      "Incident Type contains only 1 element : True\n",
      "Title contains only 1 element : True\n",
      "Incident Begin Date contains only 1 element : True\n",
      "Incident End Date contains only 1 element : True\n"
     ]
    }
   ],
   "source": [
    "most_occured_disaster_number.apply(lambda col:print(f'{col.name} contains only 1 element : {col.value_counts(normalize=True).iloc[0] == 1.0}'));"
   ]
  },
  {
   "cell_type": "markdown",
   "metadata": {},
   "source": [
    "All these lines refer to the same event. Consequently, we can drop duplicated without considering a subset of columns."
   ]
  },
  {
   "cell_type": "code",
   "execution_count": 53,
   "metadata": {},
   "outputs": [
    {
     "data": {
      "text/plain": [
       "(3570, 8)"
      ]
     },
     "execution_count": 53,
     "metadata": {},
     "output_type": "execute_result"
    }
   ],
   "source": [
    "df.drop_duplicates(subset=None, keep='first', inplace=True)\n",
    "df.shape"
   ]
  },
  {
   "cell_type": "markdown",
   "metadata": {},
   "source": [
    "Way better ! We can then look after remaining duplicated **Disaster Number**."
   ]
  },
  {
   "cell_type": "code",
   "execution_count": 54,
   "metadata": {},
   "outputs": [
    {
     "data": {
      "text/plain": [
       "1110    2\n",
       "572     2\n",
       "Name: Disaster Number, dtype: int64"
      ]
     },
     "execution_count": 54,
     "metadata": {},
     "output_type": "execute_result"
    }
   ],
   "source": [
    "disaster_number_counts = df[\"Disaster Number\"].value_counts()\n",
    "remaining_duplicates = disaster_number_counts[disaster_number_counts != 1]\n",
    "remaining_duplicates"
   ]
  },
  {
   "cell_type": "code",
   "execution_count": 55,
   "metadata": {},
   "outputs": [
    {
     "data": {
      "text/html": [
       "<div>\n",
       "<style scoped>\n",
       "    .dataframe tbody tr th:only-of-type {\n",
       "        vertical-align: middle;\n",
       "    }\n",
       "\n",
       "    .dataframe tbody tr th {\n",
       "        vertical-align: top;\n",
       "    }\n",
       "\n",
       "    .dataframe thead th {\n",
       "        text-align: right;\n",
       "    }\n",
       "</style>\n",
       "<table border=\"1\" class=\"dataframe\">\n",
       "  <thead>\n",
       "    <tr style=\"text-align: right;\">\n",
       "      <th></th>\n",
       "      <th>Disaster Number</th>\n",
       "      <th>State</th>\n",
       "      <th>Declaration Date</th>\n",
       "      <th>Disaster Type</th>\n",
       "      <th>Incident Type</th>\n",
       "      <th>Title</th>\n",
       "      <th>Incident Begin Date</th>\n",
       "      <th>Incident End Date</th>\n",
       "    </tr>\n",
       "  </thead>\n",
       "  <tbody>\n",
       "    <tr>\n",
       "      <th>33521</th>\n",
       "      <td>1110</td>\n",
       "      <td>AR</td>\n",
       "      <td>1996-04-23</td>\n",
       "      <td>DR</td>\n",
       "      <td>Severe Storm(s)</td>\n",
       "      <td>SEVERE STORMS AND TORNADOES</td>\n",
       "      <td>1996-04-18</td>\n",
       "      <td>1996-04-19</td>\n",
       "    </tr>\n",
       "    <tr>\n",
       "      <th>33523</th>\n",
       "      <td>1110</td>\n",
       "      <td>IL</td>\n",
       "      <td>1996-04-23</td>\n",
       "      <td>DR</td>\n",
       "      <td>Severe Storm(s)</td>\n",
       "      <td>SEVERE STORMS AND TORNADOES</td>\n",
       "      <td>1996-04-18</td>\n",
       "      <td>1996-04-19</td>\n",
       "    </tr>\n",
       "    <tr>\n",
       "      <th>41759</th>\n",
       "      <td>572</td>\n",
       "      <td>MH</td>\n",
       "      <td>1979-02-12</td>\n",
       "      <td>DR</td>\n",
       "      <td>Typhoon</td>\n",
       "      <td>TYPHOON ALICE</td>\n",
       "      <td>1979-02-12</td>\n",
       "      <td>1979-02-12</td>\n",
       "    </tr>\n",
       "    <tr>\n",
       "      <th>41767</th>\n",
       "      <td>572</td>\n",
       "      <td>PW</td>\n",
       "      <td>1979-02-12</td>\n",
       "      <td>DR</td>\n",
       "      <td>Typhoon</td>\n",
       "      <td>TYPHOON ALICE</td>\n",
       "      <td>1979-02-12</td>\n",
       "      <td>1979-02-12</td>\n",
       "    </tr>\n",
       "  </tbody>\n",
       "</table>\n",
       "</div>"
      ],
      "text/plain": [
       "       Disaster Number State Declaration Date Disaster Type    Incident Type  \\\n",
       "33521             1110    AR       1996-04-23            DR  Severe Storm(s)   \n",
       "33523             1110    IL       1996-04-23            DR  Severe Storm(s)   \n",
       "41759              572    MH       1979-02-12            DR          Typhoon   \n",
       "41767              572    PW       1979-02-12            DR          Typhoon   \n",
       "\n",
       "                             Title Incident Begin Date Incident End Date  \n",
       "33521  SEVERE STORMS AND TORNADOES          1996-04-18        1996-04-19  \n",
       "33523  SEVERE STORMS AND TORNADOES          1996-04-18        1996-04-19  \n",
       "41759                TYPHOON ALICE          1979-02-12        1979-02-12  \n",
       "41767                TYPHOON ALICE          1979-02-12        1979-02-12  "
      ]
     },
     "execution_count": 55,
     "metadata": {},
     "output_type": "execute_result"
    }
   ],
   "source": [
    "df[df[\"Disaster Number\"].isin(remaining_duplicates.index)]"
   ]
  },
  {
   "cell_type": "markdown",
   "metadata": {},
   "source": [
    "Only 2 numbers remaining ! Great ! The only difference is the **State** column. With the help of [wikipedia](https://en.wikipedia.org/wiki/List_of_U.S._state_abbreviations), we can add a column containing the full name of the state instead of this 2 letters code."
   ]
  },
  {
   "cell_type": "code",
   "execution_count": 56,
   "metadata": {},
   "outputs": [
    {
     "data": {
      "text/html": [
       "<div>\n",
       "<style scoped>\n",
       "    .dataframe tbody tr th:only-of-type {\n",
       "        vertical-align: middle;\n",
       "    }\n",
       "\n",
       "    .dataframe tbody tr th {\n",
       "        vertical-align: top;\n",
       "    }\n",
       "\n",
       "    .dataframe thead th {\n",
       "        text-align: right;\n",
       "    }\n",
       "</style>\n",
       "<table border=\"1\" class=\"dataframe\">\n",
       "  <thead>\n",
       "    <tr style=\"text-align: right;\">\n",
       "      <th></th>\n",
       "      <th>Fullname</th>\n",
       "      <th>Code</th>\n",
       "    </tr>\n",
       "  </thead>\n",
       "  <tbody>\n",
       "    <tr>\n",
       "      <th>10</th>\n",
       "      <td>Georgia</td>\n",
       "      <td>GA</td>\n",
       "    </tr>\n",
       "    <tr>\n",
       "      <th>30</th>\n",
       "      <td>New Jersey</td>\n",
       "      <td>NJ</td>\n",
       "    </tr>\n",
       "    <tr>\n",
       "      <th>52</th>\n",
       "      <td>Guam</td>\n",
       "      <td>GU</td>\n",
       "    </tr>\n",
       "    <tr>\n",
       "      <th>44</th>\n",
       "      <td>Utah</td>\n",
       "      <td>UT</td>\n",
       "    </tr>\n",
       "    <tr>\n",
       "      <th>18</th>\n",
       "      <td>Louisiana</td>\n",
       "      <td>LA</td>\n",
       "    </tr>\n",
       "  </tbody>\n",
       "</table>\n",
       "</div>"
      ],
      "text/plain": [
       "      Fullname Code\n",
       "10     Georgia   GA\n",
       "30  New Jersey   NJ\n",
       "52        Guam   GU\n",
       "44        Utah   UT\n",
       "18   Louisiana   LA"
      ]
     },
     "execution_count": 56,
     "metadata": {},
     "output_type": "execute_result"
    }
   ],
   "source": [
    "states_df = pd.read_html(\"https://en.wikipedia.org/wiki/List_of_U.S._state_abbreviations\", \n",
    "                         attrs = {'class': 'wikitable sortable'},\n",
    "                         header = 11)[0]\n",
    "states_df = states_df.rename({\"United States of America\" : \"Fullname\", \"US\" : \"Code\"}, axis=1)[[\"Fullname\", \"Code\"]]\n",
    "states_df.dropna(inplace=True)\n",
    "states_df.sample(5)"
   ]
  },
  {
   "cell_type": "code",
   "execution_count": 57,
   "metadata": {},
   "outputs": [
    {
     "data": {
      "text/plain": [
       "(60, 2)"
      ]
     },
     "execution_count": 57,
     "metadata": {},
     "output_type": "execute_result"
    }
   ],
   "source": [
    "states_df.shape"
   ]
  },
  {
   "cell_type": "markdown",
   "metadata": {},
   "source": [
    "And we can now merge our 2 datasets."
   ]
  },
  {
   "cell_type": "code",
   "execution_count": 63,
   "metadata": {},
   "outputs": [
    {
     "data": {
      "text/html": [
       "<div>\n",
       "<style scoped>\n",
       "    .dataframe tbody tr th:only-of-type {\n",
       "        vertical-align: middle;\n",
       "    }\n",
       "\n",
       "    .dataframe tbody tr th {\n",
       "        vertical-align: top;\n",
       "    }\n",
       "\n",
       "    .dataframe thead th {\n",
       "        text-align: right;\n",
       "    }\n",
       "</style>\n",
       "<table border=\"1\" class=\"dataframe\">\n",
       "  <thead>\n",
       "    <tr style=\"text-align: right;\">\n",
       "      <th></th>\n",
       "      <th>Disaster Number</th>\n",
       "      <th>State</th>\n",
       "      <th>Declaration Date</th>\n",
       "      <th>Disaster Type</th>\n",
       "      <th>Incident Type</th>\n",
       "      <th>Title</th>\n",
       "      <th>Incident Begin Date</th>\n",
       "      <th>Incident End Date</th>\n",
       "      <th>State name</th>\n",
       "    </tr>\n",
       "  </thead>\n",
       "  <tbody>\n",
       "    <tr>\n",
       "      <th>1012</th>\n",
       "      <td>1759</td>\n",
       "      <td>SD</td>\n",
       "      <td>2008-05-22 16:30:00</td>\n",
       "      <td>DR</td>\n",
       "      <td>Snow</td>\n",
       "      <td>SEVERE WINTER STORM AND RECORD AND NEAR RECORD...</td>\n",
       "      <td>2008-05-01 00:00:00</td>\n",
       "      <td>2008-05-02</td>\n",
       "      <td>South Dakota</td>\n",
       "    </tr>\n",
       "    <tr>\n",
       "      <th>1330</th>\n",
       "      <td>2603</td>\n",
       "      <td>OK</td>\n",
       "      <td>2006-01-02 18:05:00</td>\n",
       "      <td>FM</td>\n",
       "      <td>Fire</td>\n",
       "      <td>CASHION FIRE COMPLEX</td>\n",
       "      <td>2006-01-01 00:00:00</td>\n",
       "      <td>NaT</td>\n",
       "      <td>Oklahoma</td>\n",
       "    </tr>\n",
       "    <tr>\n",
       "      <th>2123</th>\n",
       "      <td>1287</td>\n",
       "      <td>TX</td>\n",
       "      <td>1999-08-22 21:30:00</td>\n",
       "      <td>DR</td>\n",
       "      <td>Hurricane</td>\n",
       "      <td>HURRICANE BRET</td>\n",
       "      <td>1999-08-21 20:00:00</td>\n",
       "      <td>1999-08-26</td>\n",
       "      <td>Texas</td>\n",
       "    </tr>\n",
       "    <tr>\n",
       "      <th>389</th>\n",
       "      <td>3350</td>\n",
       "      <td>MA</td>\n",
       "      <td>2012-10-28 17:35:00</td>\n",
       "      <td>EM</td>\n",
       "      <td>Hurricane</td>\n",
       "      <td>HURRICANE SANDY</td>\n",
       "      <td>2012-10-27 00:00:00</td>\n",
       "      <td>2012-11-08</td>\n",
       "      <td>Massachusetts</td>\n",
       "    </tr>\n",
       "    <tr>\n",
       "      <th>2884</th>\n",
       "      <td>609</td>\n",
       "      <td>CA</td>\n",
       "      <td>1979-10-19 00:00:00</td>\n",
       "      <td>DR</td>\n",
       "      <td>Earthquake</td>\n",
       "      <td>EARTHQUAKE</td>\n",
       "      <td>1979-10-19 00:00:00</td>\n",
       "      <td>1979-10-19</td>\n",
       "      <td>California</td>\n",
       "    </tr>\n",
       "  </tbody>\n",
       "</table>\n",
       "</div>"
      ],
      "text/plain": [
       "      Disaster Number State    Declaration Date Disaster Type Incident Type  \\\n",
       "1012             1759    SD 2008-05-22 16:30:00            DR          Snow   \n",
       "1330             2603    OK 2006-01-02 18:05:00            FM          Fire   \n",
       "2123             1287    TX 1999-08-22 21:30:00            DR     Hurricane   \n",
       "389              3350    MA 2012-10-28 17:35:00            EM     Hurricane   \n",
       "2884              609    CA 1979-10-19 00:00:00            DR    Earthquake   \n",
       "\n",
       "                                                  Title Incident Begin Date  \\\n",
       "1012  SEVERE WINTER STORM AND RECORD AND NEAR RECORD... 2008-05-01 00:00:00   \n",
       "1330                             CASHION FIRE COMPLEX   2006-01-01 00:00:00   \n",
       "2123                                    HURRICANE BRET  1999-08-21 20:00:00   \n",
       "389                                     HURRICANE SANDY 2012-10-27 00:00:00   \n",
       "2884                                         EARTHQUAKE 1979-10-19 00:00:00   \n",
       "\n",
       "     Incident End Date     State name  \n",
       "1012        2008-05-02   South Dakota  \n",
       "1330               NaT       Oklahoma  \n",
       "2123        1999-08-26          Texas  \n",
       "389         2012-11-08  Massachusetts  \n",
       "2884        1979-10-19     California  "
      ]
     },
     "execution_count": 63,
     "metadata": {},
     "output_type": "execute_result"
    }
   ],
   "source": [
    "df_with_states = (df.merge(states_df, how='left',left_on='State', right_on=\"Code\")\n",
    "                  .drop([\"Code\"], axis=1)\n",
    "                  .rename({\"Fullname\":\"State name\"}, axis=1))\n",
    "df_with_states.sample(5)"
   ]
  },
  {
   "cell_type": "markdown",
   "metadata": {},
   "source": [
    "To be sure, I want to verify we have a **State name** for each disaster."
   ]
  },
  {
   "cell_type": "code",
   "execution_count": 65,
   "metadata": {},
   "outputs": [
    {
     "data": {
      "text/plain": [
       "0"
      ]
     },
     "execution_count": 65,
     "metadata": {},
     "output_type": "execute_result"
    }
   ],
   "source": [
    "df_with_states[\"State name\"].isna().sum()"
   ]
  },
  {
   "cell_type": "markdown",
   "metadata": {},
   "source": [
    "Let's look again to our remaining duplicated **Disaster Number**"
   ]
  },
  {
   "cell_type": "code",
   "execution_count": 67,
   "metadata": {
    "scrolled": false
   },
   "outputs": [
    {
     "data": {
      "text/html": [
       "<div>\n",
       "<style scoped>\n",
       "    .dataframe tbody tr th:only-of-type {\n",
       "        vertical-align: middle;\n",
       "    }\n",
       "\n",
       "    .dataframe tbody tr th {\n",
       "        vertical-align: top;\n",
       "    }\n",
       "\n",
       "    .dataframe thead th {\n",
       "        text-align: right;\n",
       "    }\n",
       "</style>\n",
       "<table border=\"1\" class=\"dataframe\">\n",
       "  <thead>\n",
       "    <tr style=\"text-align: right;\">\n",
       "      <th></th>\n",
       "      <th>Disaster Number</th>\n",
       "      <th>State</th>\n",
       "      <th>Declaration Date</th>\n",
       "      <th>Disaster Type</th>\n",
       "      <th>Incident Type</th>\n",
       "      <th>Title</th>\n",
       "      <th>Incident Begin Date</th>\n",
       "      <th>Incident End Date</th>\n",
       "      <th>State name</th>\n",
       "    </tr>\n",
       "  </thead>\n",
       "  <tbody>\n",
       "    <tr>\n",
       "      <th>2341</th>\n",
       "      <td>1110</td>\n",
       "      <td>AR</td>\n",
       "      <td>1996-04-23</td>\n",
       "      <td>DR</td>\n",
       "      <td>Severe Storm(s)</td>\n",
       "      <td>SEVERE STORMS AND TORNADOES</td>\n",
       "      <td>1996-04-18</td>\n",
       "      <td>1996-04-19</td>\n",
       "      <td>Arkansas</td>\n",
       "    </tr>\n",
       "    <tr>\n",
       "      <th>2342</th>\n",
       "      <td>1110</td>\n",
       "      <td>IL</td>\n",
       "      <td>1996-04-23</td>\n",
       "      <td>DR</td>\n",
       "      <td>Severe Storm(s)</td>\n",
       "      <td>SEVERE STORMS AND TORNADOES</td>\n",
       "      <td>1996-04-18</td>\n",
       "      <td>1996-04-19</td>\n",
       "      <td>Illinois</td>\n",
       "    </tr>\n",
       "    <tr>\n",
       "      <th>2929</th>\n",
       "      <td>572</td>\n",
       "      <td>MH</td>\n",
       "      <td>1979-02-12</td>\n",
       "      <td>DR</td>\n",
       "      <td>Typhoon</td>\n",
       "      <td>TYPHOON ALICE</td>\n",
       "      <td>1979-02-12</td>\n",
       "      <td>1979-02-12</td>\n",
       "      <td>Marshall Islands</td>\n",
       "    </tr>\n",
       "    <tr>\n",
       "      <th>2930</th>\n",
       "      <td>572</td>\n",
       "      <td>PW</td>\n",
       "      <td>1979-02-12</td>\n",
       "      <td>DR</td>\n",
       "      <td>Typhoon</td>\n",
       "      <td>TYPHOON ALICE</td>\n",
       "      <td>1979-02-12</td>\n",
       "      <td>1979-02-12</td>\n",
       "      <td>Palau</td>\n",
       "    </tr>\n",
       "  </tbody>\n",
       "</table>\n",
       "</div>"
      ],
      "text/plain": [
       "      Disaster Number State Declaration Date Disaster Type    Incident Type  \\\n",
       "2341             1110    AR       1996-04-23            DR  Severe Storm(s)   \n",
       "2342             1110    IL       1996-04-23            DR  Severe Storm(s)   \n",
       "2929              572    MH       1979-02-12            DR          Typhoon   \n",
       "2930              572    PW       1979-02-12            DR          Typhoon   \n",
       "\n",
       "                            Title Incident Begin Date Incident End Date  \\\n",
       "2341  SEVERE STORMS AND TORNADOES          1996-04-18        1996-04-19   \n",
       "2342  SEVERE STORMS AND TORNADOES          1996-04-18        1996-04-19   \n",
       "2929                TYPHOON ALICE          1979-02-12        1979-02-12   \n",
       "2930                TYPHOON ALICE          1979-02-12        1979-02-12   \n",
       "\n",
       "            State name  \n",
       "2341          Arkansas  \n",
       "2342          Illinois  \n",
       "2929  Marshall Islands  \n",
       "2930             Palau  "
      ]
     },
     "execution_count": 67,
     "metadata": {},
     "output_type": "execute_result"
    }
   ],
   "source": [
    "df_with_states[df_with_states[\"Disaster Number\"].isin(remaining_duplicates.index)]"
   ]
  },
  {
   "cell_type": "markdown",
   "metadata": {},
   "source": [
    "From the [following map](https://images-na.ssl-images-amazon.com/images/I/81r8Hxz5lQL._SL1500_.jpg), we can suppose it is because these events are spread on several states. Indeed, **Arkansas** and **Illinois** are in the same region. The same hypothesis can be done considering [**Palau**](https://en.wikipedia.org/wiki/Palau) & [**Marshall Islands**](https://en.wikipedia.org/wiki/Marshall_Islands)."
   ]
  },
  {
   "cell_type": "markdown",
   "metadata": {},
   "source": [
    "<img width=\"600px\" src=\"https://images-na.ssl-images-amazon.com/images/I/81r8Hxz5lQL._SL1500_.jpg\">"
   ]
  },
  {
   "cell_type": "markdown",
   "metadata": {},
   "source": [
    "Let's now consider the **Incident Type** column in order to only consider natural disasters caused by weather."
   ]
  },
  {
   "cell_type": "code",
   "execution_count": 71,
   "metadata": {},
   "outputs": [
    {
     "data": {
      "text/plain": [
       "Severe Storm(s)     941\n",
       "Fire                829\n",
       "Flood               805\n",
       "Hurricane           353\n",
       "Tornado             166\n",
       "Snow                165\n",
       "Severe Ice Storm     62\n",
       "Typhoon              61\n",
       "Drought              46\n",
       "Earthquake           31\n",
       "Coastal Storm        27\n",
       "Other                26\n",
       "Freezing             18\n",
       "Toxic Substances      8\n",
       "Mud/Landslide         7\n",
       "Volcano               6\n",
       "Fishing Losses        6\n",
       "Dam/Levee Break       4\n",
       "Human Cause           3\n",
       "Tsunami               3\n",
       "Terrorist             2\n",
       "Chemical              1\n",
       "Name: Incident Type, dtype: int64"
      ]
     },
     "execution_count": 71,
     "metadata": {},
     "output_type": "execute_result"
    }
   ],
   "source": [
    "df_with_states[\"Incident Type\"].value_counts()"
   ]
  },
  {
   "cell_type": "code",
   "execution_count": 73,
   "metadata": {},
   "outputs": [
    {
     "data": {
      "text/plain": [
       "(3473, 9)"
      ]
     },
     "execution_count": 73,
     "metadata": {},
     "output_type": "execute_result"
    }
   ],
   "source": [
    "weather_disasters = [\"Severe Storm(s)\", \n",
    "                     \"Fire\", \"Flood\", \n",
    "                     \"Hurricane\", \"Tornado\", \n",
    "                     \"Snow\", \"Severe Ice Storm\", \n",
    "                     \"Typhoon\", \"Drought\", \n",
    "                     \"Coastal Storm\", \"Freezing\"]\n",
    "df_weather_disasters = df_with_states[df_with_states[\"Incident Type\"].isin(weather_disasters)]\n",
    "df_weather_disasters.shape"
   ]
  },
  {
   "cell_type": "code",
   "execution_count": 74,
   "metadata": {},
   "outputs": [
    {
     "data": {
      "text/html": [
       "<div>\n",
       "<style scoped>\n",
       "    .dataframe tbody tr th:only-of-type {\n",
       "        vertical-align: middle;\n",
       "    }\n",
       "\n",
       "    .dataframe tbody tr th {\n",
       "        vertical-align: top;\n",
       "    }\n",
       "\n",
       "    .dataframe thead th {\n",
       "        text-align: right;\n",
       "    }\n",
       "</style>\n",
       "<table border=\"1\" class=\"dataframe\">\n",
       "  <thead>\n",
       "    <tr style=\"text-align: right;\">\n",
       "      <th></th>\n",
       "      <th>Disaster Number</th>\n",
       "      <th>State</th>\n",
       "      <th>Declaration Date</th>\n",
       "      <th>Disaster Type</th>\n",
       "      <th>Incident Type</th>\n",
       "      <th>Title</th>\n",
       "      <th>Incident Begin Date</th>\n",
       "      <th>Incident End Date</th>\n",
       "      <th>State name</th>\n",
       "    </tr>\n",
       "  </thead>\n",
       "  <tbody>\n",
       "    <tr>\n",
       "      <th>1289</th>\n",
       "      <td>1634</td>\n",
       "      <td>TN</td>\n",
       "      <td>2006-04-05 18:59:00</td>\n",
       "      <td>DR</td>\n",
       "      <td>Severe Storm(s)</td>\n",
       "      <td>SEVERE STORMS AND TORNADOES</td>\n",
       "      <td>2006-04-02 19:00:00</td>\n",
       "      <td>2006-04-08 00:00:00</td>\n",
       "      <td>Tennessee</td>\n",
       "    </tr>\n",
       "    <tr>\n",
       "      <th>95</th>\n",
       "      <td>3391</td>\n",
       "      <td>PR</td>\n",
       "      <td>2017-09-18 18:50:00</td>\n",
       "      <td>EM</td>\n",
       "      <td>Hurricane</td>\n",
       "      <td>HURRICANE MARIA</td>\n",
       "      <td>2017-09-17 17:00:00</td>\n",
       "      <td>2017-11-15 23:59:00</td>\n",
       "      <td>Puerto Rico</td>\n",
       "    </tr>\n",
       "    <tr>\n",
       "      <th>740</th>\n",
       "      <td>1922</td>\n",
       "      <td>MT</td>\n",
       "      <td>2010-07-10 10:00:00</td>\n",
       "      <td>DR</td>\n",
       "      <td>Severe Storm(s)</td>\n",
       "      <td>SEVERE STORMS AND FLOODING</td>\n",
       "      <td>2010-06-15 08:00:00</td>\n",
       "      <td>2010-07-30 12:00:00</td>\n",
       "      <td>Montana</td>\n",
       "    </tr>\n",
       "    <tr>\n",
       "      <th>627</th>\n",
       "      <td>1973</td>\n",
       "      <td>GA</td>\n",
       "      <td>2011-04-29 23:00:00</td>\n",
       "      <td>DR</td>\n",
       "      <td>Severe Storm(s)</td>\n",
       "      <td>SEVERE STORMS, TORNADOES, STRAIGHT-LINE WINDS,...</td>\n",
       "      <td>2011-04-27 18:00:00</td>\n",
       "      <td>2011-04-28 00:00:00</td>\n",
       "      <td>Georgia</td>\n",
       "    </tr>\n",
       "    <tr>\n",
       "      <th>1045</th>\n",
       "      <td>2749</td>\n",
       "      <td>TX</td>\n",
       "      <td>2008-03-04 09:00:00</td>\n",
       "      <td>FM</td>\n",
       "      <td>Fire</td>\n",
       "      <td>LA PERLA FIRE</td>\n",
       "      <td>2008-03-03 00:00:00</td>\n",
       "      <td>2008-03-05 00:00:00</td>\n",
       "      <td>Texas</td>\n",
       "    </tr>\n",
       "  </tbody>\n",
       "</table>\n",
       "</div>"
      ],
      "text/plain": [
       "      Disaster Number State    Declaration Date Disaster Type  \\\n",
       "1289             1634    TN 2006-04-05 18:59:00            DR   \n",
       "95               3391    PR 2017-09-18 18:50:00            EM   \n",
       "740              1922    MT 2010-07-10 10:00:00            DR   \n",
       "627              1973    GA 2011-04-29 23:00:00            DR   \n",
       "1045             2749    TX 2008-03-04 09:00:00            FM   \n",
       "\n",
       "        Incident Type                                              Title  \\\n",
       "1289  Severe Storm(s)                        SEVERE STORMS AND TORNADOES   \n",
       "95          Hurricane                                    HURRICANE MARIA   \n",
       "740   Severe Storm(s)                         SEVERE STORMS AND FLOODING   \n",
       "627   Severe Storm(s)  SEVERE STORMS, TORNADOES, STRAIGHT-LINE WINDS,...   \n",
       "1045             Fire                                      LA PERLA FIRE   \n",
       "\n",
       "     Incident Begin Date   Incident End Date   State name  \n",
       "1289 2006-04-02 19:00:00 2006-04-08 00:00:00    Tennessee  \n",
       "95   2017-09-17 17:00:00 2017-11-15 23:59:00  Puerto Rico  \n",
       "740  2010-06-15 08:00:00 2010-07-30 12:00:00      Montana  \n",
       "627  2011-04-27 18:00:00 2011-04-28 00:00:00      Georgia  \n",
       "1045 2008-03-03 00:00:00 2008-03-05 00:00:00        Texas  "
      ]
     },
     "execution_count": 74,
     "metadata": {},
     "output_type": "execute_result"
    }
   ],
   "source": [
    "df_weather_disasters.sample(5)"
   ]
  }
 ],
 "metadata": {
  "kernelspec": {
   "display_name": "venv",
   "language": "python",
   "name": "venv"
  },
  "language_info": {
   "codemirror_mode": {
    "name": "ipython",
    "version": 3
   },
   "file_extension": ".py",
   "mimetype": "text/x-python",
   "name": "python",
   "nbconvert_exporter": "python",
   "pygments_lexer": "ipython3",
   "version": "3.6.4"
  }
 },
 "nbformat": 4,
 "nbformat_minor": 2
}
