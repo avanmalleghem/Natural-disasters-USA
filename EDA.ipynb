{
 "cells": [
  {
   "cell_type": "markdown",
   "metadata": {},
   "source": [
    "# Weather Disasters in the USA"
   ]
  },
  {
   "cell_type": "code",
   "execution_count": 1,
   "metadata": {},
   "outputs": [],
   "source": [
    "import numpy as np\n",
    "import pandas as pd\n",
    "import matplotlib.pyplot as plt\n",
    "\n",
    "%matplotlib notebook"
   ]
  },
  {
   "cell_type": "markdown",
   "metadata": {},
   "source": [
    "The first dataset comes from the [U.S. Government’s open data](https://www.data.gov/). Here is the official description of the dataset (can be found [here](https://catalog.data.gov/dataset/disaster-declaration)):\n",
    "<center>The FEMA Disaster Declarations Summary is a summarized dataset describing all <b>federally declared disasters</b>, starting with the first disaster declaration in <b>1953</b>, featuring all three disaster declaration types: major disaster, emergency and fire management assistance. </center>"
   ]
  },
  {
   "cell_type": "code",
   "execution_count": 3,
   "metadata": {},
   "outputs": [
    {
     "data": {
      "text/html": [
       "<div>\n",
       "<style scoped>\n",
       "    .dataframe tbody tr th:only-of-type {\n",
       "        vertical-align: middle;\n",
       "    }\n",
       "\n",
       "    .dataframe tbody tr th {\n",
       "        vertical-align: top;\n",
       "    }\n",
       "\n",
       "    .dataframe thead th {\n",
       "        text-align: right;\n",
       "    }\n",
       "</style>\n",
       "<table border=\"1\" class=\"dataframe\">\n",
       "  <thead>\n",
       "    <tr style=\"text-align: right;\">\n",
       "      <th></th>\n",
       "      <th>Disaster Number</th>\n",
       "      <th>State</th>\n",
       "      <th>Declaration Date</th>\n",
       "      <th>Disaster Type</th>\n",
       "      <th>Incident Type</th>\n",
       "      <th>Title</th>\n",
       "      <th>Incident Begin Date</th>\n",
       "      <th>Incident End Date</th>\n",
       "    </tr>\n",
       "  </thead>\n",
       "  <tbody>\n",
       "    <tr>\n",
       "      <th>0</th>\n",
       "      <td>4419</td>\n",
       "      <td>AL</td>\n",
       "      <td>2019-03-05 17:33:00</td>\n",
       "      <td>DR</td>\n",
       "      <td>Tornado</td>\n",
       "      <td>SEVERE STORMS, STRAIGHT-LINE WINDS, AND TORNADOES</td>\n",
       "      <td>2019-03-03 00:01:00</td>\n",
       "      <td>2019-03-03 23:59:00</td>\n",
       "    </tr>\n",
       "    <tr>\n",
       "      <th>1</th>\n",
       "      <td>4418</td>\n",
       "      <td>WA</td>\n",
       "      <td>2019-03-04 14:38:00</td>\n",
       "      <td>DR</td>\n",
       "      <td>Severe Storm(s)</td>\n",
       "      <td>SEVERE WINTER STORMS, STRAIGHT-LINE WINDS, FLO...</td>\n",
       "      <td>2018-12-10 00:00:00</td>\n",
       "      <td>2018-12-24 00:00:00</td>\n",
       "    </tr>\n",
       "    <tr>\n",
       "      <th>2</th>\n",
       "      <td>4418</td>\n",
       "      <td>WA</td>\n",
       "      <td>2019-03-04 14:38:00</td>\n",
       "      <td>DR</td>\n",
       "      <td>Severe Storm(s)</td>\n",
       "      <td>SEVERE WINTER STORMS, STRAIGHT-LINE WINDS, FLO...</td>\n",
       "      <td>2018-12-10 00:00:00</td>\n",
       "      <td>2018-12-24 00:00:00</td>\n",
       "    </tr>\n",
       "    <tr>\n",
       "      <th>3</th>\n",
       "      <td>4418</td>\n",
       "      <td>WA</td>\n",
       "      <td>2019-03-04 14:38:00</td>\n",
       "      <td>DR</td>\n",
       "      <td>Severe Storm(s)</td>\n",
       "      <td>SEVERE WINTER STORMS, STRAIGHT-LINE WINDS, FLO...</td>\n",
       "      <td>2018-12-10 00:00:00</td>\n",
       "      <td>2018-12-24 00:00:00</td>\n",
       "    </tr>\n",
       "    <tr>\n",
       "      <th>4</th>\n",
       "      <td>4418</td>\n",
       "      <td>WA</td>\n",
       "      <td>2019-03-04 14:38:00</td>\n",
       "      <td>DR</td>\n",
       "      <td>Severe Storm(s)</td>\n",
       "      <td>SEVERE WINTER STORMS, STRAIGHT-LINE WINDS, FLO...</td>\n",
       "      <td>2018-12-10 00:00:00</td>\n",
       "      <td>2018-12-24 00:00:00</td>\n",
       "    </tr>\n",
       "  </tbody>\n",
       "</table>\n",
       "</div>"
      ],
      "text/plain": [
       "   Disaster Number State    Declaration Date Disaster Type    Incident Type  \\\n",
       "0             4419    AL 2019-03-05 17:33:00            DR          Tornado   \n",
       "1             4418    WA 2019-03-04 14:38:00            DR  Severe Storm(s)   \n",
       "2             4418    WA 2019-03-04 14:38:00            DR  Severe Storm(s)   \n",
       "3             4418    WA 2019-03-04 14:38:00            DR  Severe Storm(s)   \n",
       "4             4418    WA 2019-03-04 14:38:00            DR  Severe Storm(s)   \n",
       "\n",
       "                                               Title Incident Begin Date  \\\n",
       "0  SEVERE STORMS, STRAIGHT-LINE WINDS, AND TORNADOES 2019-03-03 00:01:00   \n",
       "1  SEVERE WINTER STORMS, STRAIGHT-LINE WINDS, FLO... 2018-12-10 00:00:00   \n",
       "2  SEVERE WINTER STORMS, STRAIGHT-LINE WINDS, FLO... 2018-12-10 00:00:00   \n",
       "3  SEVERE WINTER STORMS, STRAIGHT-LINE WINDS, FLO... 2018-12-10 00:00:00   \n",
       "4  SEVERE WINTER STORMS, STRAIGHT-LINE WINDS, FLO... 2018-12-10 00:00:00   \n",
       "\n",
       "    Incident End Date  \n",
       "0 2019-03-03 23:59:00  \n",
       "1 2018-12-24 00:00:00  \n",
       "2 2018-12-24 00:00:00  \n",
       "3 2018-12-24 00:00:00  \n",
       "4 2018-12-24 00:00:00  "
      ]
     },
     "execution_count": 3,
     "metadata": {},
     "output_type": "execute_result"
    }
   ],
   "source": [
    "df = pd.read_excel(\"resources/data.gov.FEMADeclarations.3.15.19.xlsx\",\n",
    "                   sheet_name=\"FEMA Declarations\",\n",
    "                   usecols=[\"Declaration Date\",\n",
    "                            \"Disaster Number\", \n",
    "                            \"State \", \n",
    "                            \"Disaster Type\", \n",
    "                            \"Incident Type\", \n",
    "                            \"Title\", \n",
    "                            \"Incident Begin Date\", \n",
    "                            \"Incident End Date\"],\n",
    "                   header=2)\n",
    "df.rename({\"State \" : \"State\"}, inplace=True, axis=1)\n",
    "df.head()"
   ]
  },
  {
   "cell_type": "code",
   "execution_count": 4,
   "metadata": {},
   "outputs": [
    {
     "name": "stdout",
     "output_type": "stream",
     "text": [
      "<class 'pandas.core.frame.DataFrame'>\n",
      "RangeIndex: 48555 entries, 0 to 48554\n",
      "Data columns (total 8 columns):\n",
      "Disaster Number        48555 non-null int64\n",
      "State                  48555 non-null object\n",
      "Declaration Date       48555 non-null datetime64[ns]\n",
      "Disaster Type          48555 non-null object\n",
      "Incident Type          48555 non-null object\n",
      "Title                  48555 non-null object\n",
      "Incident Begin Date    48555 non-null datetime64[ns]\n",
      "Incident End Date      48216 non-null datetime64[ns]\n",
      "dtypes: datetime64[ns](3), int64(1), object(4)\n",
      "memory usage: 2.2+ MB\n"
     ]
    }
   ],
   "source": [
    "df.info()"
   ]
  },
  {
   "cell_type": "markdown",
   "metadata": {},
   "source": [
    "According to the MetaData sheet into the xlsx file, the **Disaster Number** column is a number used to designate an event declared as a disaster."
   ]
  },
  {
   "cell_type": "code",
   "execution_count": 5,
   "metadata": {},
   "outputs": [
    {
     "data": {
      "text/plain": [
       "1239    257\n",
       "3261    255\n",
       "3216    254\n",
       "1624    254\n",
       "1606    254\n",
       "       ... \n",
       "2706      1\n",
       "2957      1\n",
       "2674      1\n",
       "2424      1\n",
       "1495      1\n",
       "Name: Disaster Number, Length: 3568, dtype: int64"
      ]
     },
     "execution_count": 5,
     "metadata": {},
     "output_type": "execute_result"
    }
   ],
   "source": [
    "disaster_number_counts = df[\"Disaster Number\"].value_counts()\n",
    "disaster_number_counts"
   ]
  },
  {
   "cell_type": "markdown",
   "metadata": {},
   "source": [
    "We see that this number isn't unique. Let's analyse a sample for a non-unique Disaster Number."
   ]
  },
  {
   "cell_type": "code",
   "execution_count": 6,
   "metadata": {},
   "outputs": [
    {
     "data": {
      "text/html": [
       "<div>\n",
       "<style scoped>\n",
       "    .dataframe tbody tr th:only-of-type {\n",
       "        vertical-align: middle;\n",
       "    }\n",
       "\n",
       "    .dataframe tbody tr th {\n",
       "        vertical-align: top;\n",
       "    }\n",
       "\n",
       "    .dataframe thead th {\n",
       "        text-align: right;\n",
       "    }\n",
       "</style>\n",
       "<table border=\"1\" class=\"dataframe\">\n",
       "  <thead>\n",
       "    <tr style=\"text-align: right;\">\n",
       "      <th></th>\n",
       "      <th>Disaster Number</th>\n",
       "      <th>State</th>\n",
       "      <th>Declaration Date</th>\n",
       "      <th>Disaster Type</th>\n",
       "      <th>Incident Type</th>\n",
       "      <th>Title</th>\n",
       "      <th>Incident Begin Date</th>\n",
       "      <th>Incident End Date</th>\n",
       "    </tr>\n",
       "  </thead>\n",
       "  <tbody>\n",
       "    <tr>\n",
       "      <th>30915</th>\n",
       "      <td>1239</td>\n",
       "      <td>TX</td>\n",
       "      <td>1998-08-26 15:50:08</td>\n",
       "      <td>DR</td>\n",
       "      <td>Severe Storm(s)</td>\n",
       "      <td>TROPICAL STORM CHARLEY</td>\n",
       "      <td>1998-08-22 13:55:00</td>\n",
       "      <td>1998-08-31 12:00:00</td>\n",
       "    </tr>\n",
       "    <tr>\n",
       "      <th>31035</th>\n",
       "      <td>1239</td>\n",
       "      <td>TX</td>\n",
       "      <td>1998-08-26 15:50:08</td>\n",
       "      <td>DR</td>\n",
       "      <td>Severe Storm(s)</td>\n",
       "      <td>TROPICAL STORM CHARLEY</td>\n",
       "      <td>1998-08-22 13:55:00</td>\n",
       "      <td>1998-08-31 12:00:00</td>\n",
       "    </tr>\n",
       "    <tr>\n",
       "      <th>31058</th>\n",
       "      <td>1239</td>\n",
       "      <td>TX</td>\n",
       "      <td>1998-08-26 15:50:08</td>\n",
       "      <td>DR</td>\n",
       "      <td>Severe Storm(s)</td>\n",
       "      <td>TROPICAL STORM CHARLEY</td>\n",
       "      <td>1998-08-22 13:55:00</td>\n",
       "      <td>1998-08-31 12:00:00</td>\n",
       "    </tr>\n",
       "    <tr>\n",
       "      <th>30988</th>\n",
       "      <td>1239</td>\n",
       "      <td>TX</td>\n",
       "      <td>1998-08-26 15:50:08</td>\n",
       "      <td>DR</td>\n",
       "      <td>Severe Storm(s)</td>\n",
       "      <td>TROPICAL STORM CHARLEY</td>\n",
       "      <td>1998-08-22 13:55:00</td>\n",
       "      <td>1998-08-31 12:00:00</td>\n",
       "    </tr>\n",
       "  </tbody>\n",
       "</table>\n",
       "</div>"
      ],
      "text/plain": [
       "       Disaster Number State    Declaration Date Disaster Type  \\\n",
       "30915             1239    TX 1998-08-26 15:50:08            DR   \n",
       "31035             1239    TX 1998-08-26 15:50:08            DR   \n",
       "31058             1239    TX 1998-08-26 15:50:08            DR   \n",
       "30988             1239    TX 1998-08-26 15:50:08            DR   \n",
       "\n",
       "         Incident Type                   Title Incident Begin Date  \\\n",
       "30915  Severe Storm(s)  TROPICAL STORM CHARLEY 1998-08-22 13:55:00   \n",
       "31035  Severe Storm(s)  TROPICAL STORM CHARLEY 1998-08-22 13:55:00   \n",
       "31058  Severe Storm(s)  TROPICAL STORM CHARLEY 1998-08-22 13:55:00   \n",
       "30988  Severe Storm(s)  TROPICAL STORM CHARLEY 1998-08-22 13:55:00   \n",
       "\n",
       "        Incident End Date  \n",
       "30915 1998-08-31 12:00:00  \n",
       "31035 1998-08-31 12:00:00  \n",
       "31058 1998-08-31 12:00:00  \n",
       "30988 1998-08-31 12:00:00  "
      ]
     },
     "execution_count": 6,
     "metadata": {},
     "output_type": "execute_result"
    }
   ],
   "source": [
    "index = 0\n",
    "most_occured_disaster_number = df.loc[disaster_number_counts.index[index] == df[\"Disaster Number\"]]\n",
    "most_occured_disaster_number.sample(4)"
   ]
  },
  {
   "cell_type": "markdown",
   "metadata": {},
   "source": [
    "It looks like these rows are redundant. Let's verify it for each column for this given index."
   ]
  },
  {
   "cell_type": "code",
   "execution_count": 7,
   "metadata": {},
   "outputs": [
    {
     "name": "stdout",
     "output_type": "stream",
     "text": [
      "Disaster Number contains only 1 element : True\n",
      "State contains only 1 element : True\n",
      "Declaration Date contains only 1 element : True\n",
      "Disaster Type contains only 1 element : True\n",
      "Incident Type contains only 1 element : True\n",
      "Title contains only 1 element : True\n",
      "Incident Begin Date contains only 1 element : True\n",
      "Incident End Date contains only 1 element : True\n"
     ]
    }
   ],
   "source": [
    "most_occured_disaster_number.apply(lambda col:print(f'{col.name} contains only 1 element : {col.value_counts(normalize=True).iloc[0] == 1.0}'));"
   ]
  },
  {
   "cell_type": "markdown",
   "metadata": {},
   "source": [
    "All these lines refer to the same event. Consequently, we can drop duplicated without considering a subset of columns."
   ]
  },
  {
   "cell_type": "code",
   "execution_count": 8,
   "metadata": {},
   "outputs": [
    {
     "data": {
      "text/plain": [
       "(3570, 8)"
      ]
     },
     "execution_count": 8,
     "metadata": {},
     "output_type": "execute_result"
    }
   ],
   "source": [
    "df.drop_duplicates(subset=None, keep='first', inplace=True)\n",
    "df.shape"
   ]
  },
  {
   "cell_type": "markdown",
   "metadata": {},
   "source": [
    "Way better ! We can then look after remaining duplicated **Disaster Number**."
   ]
  },
  {
   "cell_type": "code",
   "execution_count": 9,
   "metadata": {},
   "outputs": [
    {
     "data": {
      "text/plain": [
       "1110    2\n",
       "572     2\n",
       "Name: Disaster Number, dtype: int64"
      ]
     },
     "execution_count": 9,
     "metadata": {},
     "output_type": "execute_result"
    }
   ],
   "source": [
    "disaster_number_counts = df[\"Disaster Number\"].value_counts()\n",
    "remaining_duplicates = disaster_number_counts[disaster_number_counts != 1]\n",
    "remaining_duplicates"
   ]
  },
  {
   "cell_type": "code",
   "execution_count": 10,
   "metadata": {},
   "outputs": [
    {
     "data": {
      "text/html": [
       "<div>\n",
       "<style scoped>\n",
       "    .dataframe tbody tr th:only-of-type {\n",
       "        vertical-align: middle;\n",
       "    }\n",
       "\n",
       "    .dataframe tbody tr th {\n",
       "        vertical-align: top;\n",
       "    }\n",
       "\n",
       "    .dataframe thead th {\n",
       "        text-align: right;\n",
       "    }\n",
       "</style>\n",
       "<table border=\"1\" class=\"dataframe\">\n",
       "  <thead>\n",
       "    <tr style=\"text-align: right;\">\n",
       "      <th></th>\n",
       "      <th>Disaster Number</th>\n",
       "      <th>State</th>\n",
       "      <th>Declaration Date</th>\n",
       "      <th>Disaster Type</th>\n",
       "      <th>Incident Type</th>\n",
       "      <th>Title</th>\n",
       "      <th>Incident Begin Date</th>\n",
       "      <th>Incident End Date</th>\n",
       "    </tr>\n",
       "  </thead>\n",
       "  <tbody>\n",
       "    <tr>\n",
       "      <th>33521</th>\n",
       "      <td>1110</td>\n",
       "      <td>AR</td>\n",
       "      <td>1996-04-23</td>\n",
       "      <td>DR</td>\n",
       "      <td>Severe Storm(s)</td>\n",
       "      <td>SEVERE STORMS AND TORNADOES</td>\n",
       "      <td>1996-04-18</td>\n",
       "      <td>1996-04-19</td>\n",
       "    </tr>\n",
       "    <tr>\n",
       "      <th>33523</th>\n",
       "      <td>1110</td>\n",
       "      <td>IL</td>\n",
       "      <td>1996-04-23</td>\n",
       "      <td>DR</td>\n",
       "      <td>Severe Storm(s)</td>\n",
       "      <td>SEVERE STORMS AND TORNADOES</td>\n",
       "      <td>1996-04-18</td>\n",
       "      <td>1996-04-19</td>\n",
       "    </tr>\n",
       "    <tr>\n",
       "      <th>41759</th>\n",
       "      <td>572</td>\n",
       "      <td>MH</td>\n",
       "      <td>1979-02-12</td>\n",
       "      <td>DR</td>\n",
       "      <td>Typhoon</td>\n",
       "      <td>TYPHOON ALICE</td>\n",
       "      <td>1979-02-12</td>\n",
       "      <td>1979-02-12</td>\n",
       "    </tr>\n",
       "    <tr>\n",
       "      <th>41767</th>\n",
       "      <td>572</td>\n",
       "      <td>PW</td>\n",
       "      <td>1979-02-12</td>\n",
       "      <td>DR</td>\n",
       "      <td>Typhoon</td>\n",
       "      <td>TYPHOON ALICE</td>\n",
       "      <td>1979-02-12</td>\n",
       "      <td>1979-02-12</td>\n",
       "    </tr>\n",
       "  </tbody>\n",
       "</table>\n",
       "</div>"
      ],
      "text/plain": [
       "       Disaster Number State Declaration Date Disaster Type    Incident Type  \\\n",
       "33521             1110    AR       1996-04-23            DR  Severe Storm(s)   \n",
       "33523             1110    IL       1996-04-23            DR  Severe Storm(s)   \n",
       "41759              572    MH       1979-02-12            DR          Typhoon   \n",
       "41767              572    PW       1979-02-12            DR          Typhoon   \n",
       "\n",
       "                             Title Incident Begin Date Incident End Date  \n",
       "33521  SEVERE STORMS AND TORNADOES          1996-04-18        1996-04-19  \n",
       "33523  SEVERE STORMS AND TORNADOES          1996-04-18        1996-04-19  \n",
       "41759                TYPHOON ALICE          1979-02-12        1979-02-12  \n",
       "41767                TYPHOON ALICE          1979-02-12        1979-02-12  "
      ]
     },
     "execution_count": 10,
     "metadata": {},
     "output_type": "execute_result"
    }
   ],
   "source": [
    "df[df[\"Disaster Number\"].isin(remaining_duplicates.index)]"
   ]
  },
  {
   "cell_type": "markdown",
   "metadata": {},
   "source": [
    "Only 2 numbers remaining ! Great ! The only difference is the **State** column. With the help of [wikipedia](https://en.wikipedia.org/wiki/List_of_U.S._state_abbreviations), we can add a column containing the full name of the state instead of this 2 letters code."
   ]
  },
  {
   "cell_type": "code",
   "execution_count": 11,
   "metadata": {},
   "outputs": [
    {
     "data": {
      "text/html": [
       "<div>\n",
       "<style scoped>\n",
       "    .dataframe tbody tr th:only-of-type {\n",
       "        vertical-align: middle;\n",
       "    }\n",
       "\n",
       "    .dataframe tbody tr th {\n",
       "        vertical-align: top;\n",
       "    }\n",
       "\n",
       "    .dataframe thead th {\n",
       "        text-align: right;\n",
       "    }\n",
       "</style>\n",
       "<table border=\"1\" class=\"dataframe\">\n",
       "  <thead>\n",
       "    <tr style=\"text-align: right;\">\n",
       "      <th></th>\n",
       "      <th>Fullname</th>\n",
       "      <th>Code</th>\n",
       "    </tr>\n",
       "  </thead>\n",
       "  <tbody>\n",
       "    <tr>\n",
       "      <th>50</th>\n",
       "      <td>Wyoming</td>\n",
       "      <td>WY</td>\n",
       "    </tr>\n",
       "    <tr>\n",
       "      <th>9</th>\n",
       "      <td>Florida</td>\n",
       "      <td>FL</td>\n",
       "    </tr>\n",
       "    <tr>\n",
       "      <th>40</th>\n",
       "      <td>South Carolina</td>\n",
       "      <td>SC</td>\n",
       "    </tr>\n",
       "    <tr>\n",
       "      <th>19</th>\n",
       "      <td>Maine</td>\n",
       "      <td>ME</td>\n",
       "    </tr>\n",
       "    <tr>\n",
       "      <th>30</th>\n",
       "      <td>New Jersey</td>\n",
       "      <td>NJ</td>\n",
       "    </tr>\n",
       "  </tbody>\n",
       "</table>\n",
       "</div>"
      ],
      "text/plain": [
       "          Fullname Code\n",
       "50         Wyoming   WY\n",
       "9          Florida   FL\n",
       "40  South Carolina   SC\n",
       "19           Maine   ME\n",
       "30      New Jersey   NJ"
      ]
     },
     "execution_count": 11,
     "metadata": {},
     "output_type": "execute_result"
    }
   ],
   "source": [
    "states_df = pd.read_html(\"https://en.wikipedia.org/wiki/List_of_U.S._state_abbreviations\", \n",
    "                         attrs = {'class': 'wikitable sortable'},\n",
    "                         header = 11)[0]\n",
    "states_df = states_df.rename({\"United States of America\" : \"Fullname\", \"US\" : \"Code\"}, axis=1)[[\"Fullname\", \"Code\"]]\n",
    "states_df.dropna(inplace=True)\n",
    "states_df.sample(5)"
   ]
  },
  {
   "cell_type": "code",
   "execution_count": 12,
   "metadata": {},
   "outputs": [
    {
     "data": {
      "text/plain": [
       "(60, 2)"
      ]
     },
     "execution_count": 12,
     "metadata": {},
     "output_type": "execute_result"
    }
   ],
   "source": [
    "states_df.shape"
   ]
  },
  {
   "cell_type": "markdown",
   "metadata": {},
   "source": [
    "And we can now merge our 2 datasets."
   ]
  },
  {
   "cell_type": "code",
   "execution_count": 13,
   "metadata": {},
   "outputs": [
    {
     "data": {
      "text/html": [
       "<div>\n",
       "<style scoped>\n",
       "    .dataframe tbody tr th:only-of-type {\n",
       "        vertical-align: middle;\n",
       "    }\n",
       "\n",
       "    .dataframe tbody tr th {\n",
       "        vertical-align: top;\n",
       "    }\n",
       "\n",
       "    .dataframe thead th {\n",
       "        text-align: right;\n",
       "    }\n",
       "</style>\n",
       "<table border=\"1\" class=\"dataframe\">\n",
       "  <thead>\n",
       "    <tr style=\"text-align: right;\">\n",
       "      <th></th>\n",
       "      <th>Disaster Number</th>\n",
       "      <th>State</th>\n",
       "      <th>Declaration Date</th>\n",
       "      <th>Disaster Type</th>\n",
       "      <th>Incident Type</th>\n",
       "      <th>Title</th>\n",
       "      <th>Incident Begin Date</th>\n",
       "      <th>Incident End Date</th>\n",
       "      <th>State name</th>\n",
       "    </tr>\n",
       "  </thead>\n",
       "  <tbody>\n",
       "    <tr>\n",
       "      <th>33</th>\n",
       "      <td>3400</td>\n",
       "      <td>SC</td>\n",
       "      <td>2018-09-10 19:48:00</td>\n",
       "      <td>EM</td>\n",
       "      <td>Hurricane</td>\n",
       "      <td>HURRICANE FLORENCE</td>\n",
       "      <td>2018-09-08 00:01:00</td>\n",
       "      <td>2018-10-08 23:59:00</td>\n",
       "      <td>South Carolina</td>\n",
       "    </tr>\n",
       "    <tr>\n",
       "      <th>1077</th>\n",
       "      <td>2737</td>\n",
       "      <td>CA</td>\n",
       "      <td>2007-10-22 16:22:00</td>\n",
       "      <td>FM</td>\n",
       "      <td>Fire</td>\n",
       "      <td>SANTIAGO FIRE</td>\n",
       "      <td>2007-10-21 20:55:00</td>\n",
       "      <td>NaT</td>\n",
       "      <td>California</td>\n",
       "    </tr>\n",
       "    <tr>\n",
       "      <th>454</th>\n",
       "      <td>2974</td>\n",
       "      <td>NV</td>\n",
       "      <td>2012-01-19 18:02:00</td>\n",
       "      <td>FM</td>\n",
       "      <td>Fire</td>\n",
       "      <td>WASHOE FIRE</td>\n",
       "      <td>2012-01-19 12:30:00</td>\n",
       "      <td>2012-01-21 08:00:00</td>\n",
       "      <td>Nevada</td>\n",
       "    </tr>\n",
       "    <tr>\n",
       "      <th>3223</th>\n",
       "      <td>348</td>\n",
       "      <td>IA</td>\n",
       "      <td>1972-08-18 00:00:00</td>\n",
       "      <td>DR</td>\n",
       "      <td>Flood</td>\n",
       "      <td>SEVERE STORMS &amp; FLOODING</td>\n",
       "      <td>1972-08-18 00:00:00</td>\n",
       "      <td>1972-08-18 00:00:00</td>\n",
       "      <td>Iowa</td>\n",
       "    </tr>\n",
       "    <tr>\n",
       "      <th>2601</th>\n",
       "      <td>876</td>\n",
       "      <td>NH</td>\n",
       "      <td>1990-08-29 00:00:00</td>\n",
       "      <td>DR</td>\n",
       "      <td>Flood</td>\n",
       "      <td>SEVERE STORMS &amp; FLOODING</td>\n",
       "      <td>1990-08-07 00:00:00</td>\n",
       "      <td>1990-08-11 00:00:00</td>\n",
       "      <td>New Hampshire</td>\n",
       "    </tr>\n",
       "  </tbody>\n",
       "</table>\n",
       "</div>"
      ],
      "text/plain": [
       "      Disaster Number State    Declaration Date Disaster Type Incident Type  \\\n",
       "33               3400    SC 2018-09-10 19:48:00            EM     Hurricane   \n",
       "1077             2737    CA 2007-10-22 16:22:00            FM          Fire   \n",
       "454              2974    NV 2012-01-19 18:02:00            FM          Fire   \n",
       "3223              348    IA 1972-08-18 00:00:00            DR         Flood   \n",
       "2601              876    NH 1990-08-29 00:00:00            DR         Flood   \n",
       "\n",
       "                         Title Incident Begin Date   Incident End Date  \\\n",
       "33          HURRICANE FLORENCE 2018-09-08 00:01:00 2018-10-08 23:59:00   \n",
       "1077             SANTIAGO FIRE 2007-10-21 20:55:00                 NaT   \n",
       "454                WASHOE FIRE 2012-01-19 12:30:00 2012-01-21 08:00:00   \n",
       "3223  SEVERE STORMS & FLOODING 1972-08-18 00:00:00 1972-08-18 00:00:00   \n",
       "2601  SEVERE STORMS & FLOODING 1990-08-07 00:00:00 1990-08-11 00:00:00   \n",
       "\n",
       "          State name  \n",
       "33    South Carolina  \n",
       "1077      California  \n",
       "454           Nevada  \n",
       "3223            Iowa  \n",
       "2601   New Hampshire  "
      ]
     },
     "execution_count": 13,
     "metadata": {},
     "output_type": "execute_result"
    }
   ],
   "source": [
    "df_with_states = (df.merge(states_df, how='left',left_on='State', right_on=\"Code\")\n",
    "                  .drop([\"Code\"], axis=1)\n",
    "                  .rename({\"Fullname\":\"State name\"}, axis=1))\n",
    "df_with_states.sample(5)"
   ]
  },
  {
   "cell_type": "markdown",
   "metadata": {},
   "source": [
    "To be sure, I want to verify we have a **State name** for each disaster."
   ]
  },
  {
   "cell_type": "code",
   "execution_count": 14,
   "metadata": {},
   "outputs": [
    {
     "data": {
      "text/plain": [
       "0"
      ]
     },
     "execution_count": 14,
     "metadata": {},
     "output_type": "execute_result"
    }
   ],
   "source": [
    "df_with_states[\"State name\"].isna().sum()"
   ]
  },
  {
   "cell_type": "markdown",
   "metadata": {},
   "source": [
    "Let's look again to our remaining duplicated **Disaster Number**"
   ]
  },
  {
   "cell_type": "code",
   "execution_count": 15,
   "metadata": {},
   "outputs": [
    {
     "data": {
      "text/html": [
       "<div>\n",
       "<style scoped>\n",
       "    .dataframe tbody tr th:only-of-type {\n",
       "        vertical-align: middle;\n",
       "    }\n",
       "\n",
       "    .dataframe tbody tr th {\n",
       "        vertical-align: top;\n",
       "    }\n",
       "\n",
       "    .dataframe thead th {\n",
       "        text-align: right;\n",
       "    }\n",
       "</style>\n",
       "<table border=\"1\" class=\"dataframe\">\n",
       "  <thead>\n",
       "    <tr style=\"text-align: right;\">\n",
       "      <th></th>\n",
       "      <th>Disaster Number</th>\n",
       "      <th>State</th>\n",
       "      <th>Declaration Date</th>\n",
       "      <th>Disaster Type</th>\n",
       "      <th>Incident Type</th>\n",
       "      <th>Title</th>\n",
       "      <th>Incident Begin Date</th>\n",
       "      <th>Incident End Date</th>\n",
       "      <th>State name</th>\n",
       "    </tr>\n",
       "  </thead>\n",
       "  <tbody>\n",
       "    <tr>\n",
       "      <th>2341</th>\n",
       "      <td>1110</td>\n",
       "      <td>AR</td>\n",
       "      <td>1996-04-23</td>\n",
       "      <td>DR</td>\n",
       "      <td>Severe Storm(s)</td>\n",
       "      <td>SEVERE STORMS AND TORNADOES</td>\n",
       "      <td>1996-04-18</td>\n",
       "      <td>1996-04-19</td>\n",
       "      <td>Arkansas</td>\n",
       "    </tr>\n",
       "    <tr>\n",
       "      <th>2342</th>\n",
       "      <td>1110</td>\n",
       "      <td>IL</td>\n",
       "      <td>1996-04-23</td>\n",
       "      <td>DR</td>\n",
       "      <td>Severe Storm(s)</td>\n",
       "      <td>SEVERE STORMS AND TORNADOES</td>\n",
       "      <td>1996-04-18</td>\n",
       "      <td>1996-04-19</td>\n",
       "      <td>Illinois</td>\n",
       "    </tr>\n",
       "    <tr>\n",
       "      <th>2929</th>\n",
       "      <td>572</td>\n",
       "      <td>MH</td>\n",
       "      <td>1979-02-12</td>\n",
       "      <td>DR</td>\n",
       "      <td>Typhoon</td>\n",
       "      <td>TYPHOON ALICE</td>\n",
       "      <td>1979-02-12</td>\n",
       "      <td>1979-02-12</td>\n",
       "      <td>Marshall Islands</td>\n",
       "    </tr>\n",
       "    <tr>\n",
       "      <th>2930</th>\n",
       "      <td>572</td>\n",
       "      <td>PW</td>\n",
       "      <td>1979-02-12</td>\n",
       "      <td>DR</td>\n",
       "      <td>Typhoon</td>\n",
       "      <td>TYPHOON ALICE</td>\n",
       "      <td>1979-02-12</td>\n",
       "      <td>1979-02-12</td>\n",
       "      <td>Palau</td>\n",
       "    </tr>\n",
       "  </tbody>\n",
       "</table>\n",
       "</div>"
      ],
      "text/plain": [
       "      Disaster Number State Declaration Date Disaster Type    Incident Type  \\\n",
       "2341             1110    AR       1996-04-23            DR  Severe Storm(s)   \n",
       "2342             1110    IL       1996-04-23            DR  Severe Storm(s)   \n",
       "2929              572    MH       1979-02-12            DR          Typhoon   \n",
       "2930              572    PW       1979-02-12            DR          Typhoon   \n",
       "\n",
       "                            Title Incident Begin Date Incident End Date  \\\n",
       "2341  SEVERE STORMS AND TORNADOES          1996-04-18        1996-04-19   \n",
       "2342  SEVERE STORMS AND TORNADOES          1996-04-18        1996-04-19   \n",
       "2929                TYPHOON ALICE          1979-02-12        1979-02-12   \n",
       "2930                TYPHOON ALICE          1979-02-12        1979-02-12   \n",
       "\n",
       "            State name  \n",
       "2341          Arkansas  \n",
       "2342          Illinois  \n",
       "2929  Marshall Islands  \n",
       "2930             Palau  "
      ]
     },
     "execution_count": 15,
     "metadata": {},
     "output_type": "execute_result"
    }
   ],
   "source": [
    "df_with_states[df_with_states[\"Disaster Number\"].isin(remaining_duplicates.index)]"
   ]
  },
  {
   "cell_type": "markdown",
   "metadata": {},
   "source": [
    "From the [following map](https://images-na.ssl-images-amazon.com/images/I/81r8Hxz5lQL._SL1500_.jpg), we can suppose it is because these events are spread on several states. Indeed, **Arkansas** and **Illinois** are in the same region. The same hypothesis can be done considering [**Palau**](https://en.wikipedia.org/wiki/Palau) & [**Marshall Islands**](https://en.wikipedia.org/wiki/Marshall_Islands)."
   ]
  },
  {
   "cell_type": "markdown",
   "metadata": {},
   "source": [
    "<img width=\"600px\" src=\"https://images-na.ssl-images-amazon.com/images/I/81r8Hxz5lQL._SL1500_.jpg\">"
   ]
  },
  {
   "cell_type": "markdown",
   "metadata": {},
   "source": [
    "Let's now consider the **Incident Type** column in order to only consider natural disasters caused by weather."
   ]
  },
  {
   "cell_type": "code",
   "execution_count": 16,
   "metadata": {},
   "outputs": [
    {
     "data": {
      "text/plain": [
       "Severe Storm(s)     941\n",
       "Fire                829\n",
       "Flood               805\n",
       "Hurricane           353\n",
       "Tornado             166\n",
       "Snow                165\n",
       "Severe Ice Storm     62\n",
       "Typhoon              61\n",
       "Drought              46\n",
       "Earthquake           31\n",
       "Coastal Storm        27\n",
       "Other                26\n",
       "Freezing             18\n",
       "Toxic Substances      8\n",
       "Mud/Landslide         7\n",
       "Fishing Losses        6\n",
       "Volcano               6\n",
       "Dam/Levee Break       4\n",
       "Human Cause           3\n",
       "Tsunami               3\n",
       "Terrorist             2\n",
       "Chemical              1\n",
       "Name: Incident Type, dtype: int64"
      ]
     },
     "execution_count": 16,
     "metadata": {},
     "output_type": "execute_result"
    }
   ],
   "source": [
    "df_with_states[\"Incident Type\"].value_counts()"
   ]
  },
  {
   "cell_type": "code",
   "execution_count": 17,
   "metadata": {},
   "outputs": [
    {
     "data": {
      "text/plain": [
       "(3473, 9)"
      ]
     },
     "execution_count": 17,
     "metadata": {},
     "output_type": "execute_result"
    }
   ],
   "source": [
    "weather_disasters = [\"Severe Storm(s)\", \n",
    "                     \"Fire\", \"Flood\", \n",
    "                     \"Hurricane\", \"Tornado\", \n",
    "                     \"Snow\", \"Severe Ice Storm\", \n",
    "                     \"Typhoon\", \"Drought\", \n",
    "                     \"Coastal Storm\", \"Freezing\"]\n",
    "df_weather_disasters = df_with_states[df_with_states[\"Incident Type\"].isin(weather_disasters)]\n",
    "df_weather_disasters.shape"
   ]
  },
  {
   "cell_type": "code",
   "execution_count": 18,
   "metadata": {},
   "outputs": [
    {
     "data": {
      "text/html": [
       "<div>\n",
       "<style scoped>\n",
       "    .dataframe tbody tr th:only-of-type {\n",
       "        vertical-align: middle;\n",
       "    }\n",
       "\n",
       "    .dataframe tbody tr th {\n",
       "        vertical-align: top;\n",
       "    }\n",
       "\n",
       "    .dataframe thead th {\n",
       "        text-align: right;\n",
       "    }\n",
       "</style>\n",
       "<table border=\"1\" class=\"dataframe\">\n",
       "  <thead>\n",
       "    <tr style=\"text-align: right;\">\n",
       "      <th></th>\n",
       "      <th>Disaster Number</th>\n",
       "      <th>State</th>\n",
       "      <th>Declaration Date</th>\n",
       "      <th>Disaster Type</th>\n",
       "      <th>Incident Type</th>\n",
       "      <th>Title</th>\n",
       "      <th>Incident Begin Date</th>\n",
       "      <th>Incident End Date</th>\n",
       "      <th>State name</th>\n",
       "    </tr>\n",
       "  </thead>\n",
       "  <tbody>\n",
       "    <tr>\n",
       "      <th>3492</th>\n",
       "      <td>79</td>\n",
       "      <td>ND</td>\n",
       "      <td>1957-06-22 00:00:00</td>\n",
       "      <td>DR</td>\n",
       "      <td>Tornado</td>\n",
       "      <td>TORNADO</td>\n",
       "      <td>1957-06-22 00:00:00</td>\n",
       "      <td>1957-06-22 00:00:00</td>\n",
       "      <td>North Dakota</td>\n",
       "    </tr>\n",
       "    <tr>\n",
       "      <th>3045</th>\n",
       "      <td>511</td>\n",
       "      <td>SD</td>\n",
       "      <td>1976-06-25 00:00:00</td>\n",
       "      <td>DR</td>\n",
       "      <td>Flood</td>\n",
       "      <td>FLASH FLOODING &amp; MUDSLIDES</td>\n",
       "      <td>1976-06-25 00:00:00</td>\n",
       "      <td>1976-06-25 00:00:00</td>\n",
       "      <td>South Dakota</td>\n",
       "    </tr>\n",
       "    <tr>\n",
       "      <th>236</th>\n",
       "      <td>4217</td>\n",
       "      <td>KY</td>\n",
       "      <td>2015-05-01 17:37:00</td>\n",
       "      <td>DR</td>\n",
       "      <td>Flood</td>\n",
       "      <td>SEVERE STORMS, TORNADOES, FLOODING, LANDSLIDES...</td>\n",
       "      <td>2015-04-02 12:00:00</td>\n",
       "      <td>2015-04-17 23:59:00</td>\n",
       "      <td>Kentucky</td>\n",
       "    </tr>\n",
       "    <tr>\n",
       "      <th>2187</th>\n",
       "      <td>3132</td>\n",
       "      <td>MS</td>\n",
       "      <td>1998-09-28 00:00:00</td>\n",
       "      <td>EM</td>\n",
       "      <td>Hurricane</td>\n",
       "      <td>HURRICANE GEORGES</td>\n",
       "      <td>1998-09-28 00:00:00</td>\n",
       "      <td>1998-10-05 00:00:00</td>\n",
       "      <td>Mississippi</td>\n",
       "    </tr>\n",
       "    <tr>\n",
       "      <th>2386</th>\n",
       "      <td>1070</td>\n",
       "      <td>AL</td>\n",
       "      <td>1995-10-04 00:00:00</td>\n",
       "      <td>DR</td>\n",
       "      <td>Hurricane</td>\n",
       "      <td>HURRICANE OPAL</td>\n",
       "      <td>1995-10-04 00:00:00</td>\n",
       "      <td>1995-10-08 00:00:00</td>\n",
       "      <td>Alabama</td>\n",
       "    </tr>\n",
       "  </tbody>\n",
       "</table>\n",
       "</div>"
      ],
      "text/plain": [
       "      Disaster Number State    Declaration Date Disaster Type Incident Type  \\\n",
       "3492               79    ND 1957-06-22 00:00:00            DR       Tornado   \n",
       "3045              511    SD 1976-06-25 00:00:00            DR         Flood   \n",
       "236              4217    KY 2015-05-01 17:37:00            DR         Flood   \n",
       "2187             3132    MS 1998-09-28 00:00:00            EM     Hurricane   \n",
       "2386             1070    AL 1995-10-04 00:00:00            DR     Hurricane   \n",
       "\n",
       "                                                  Title Incident Begin Date  \\\n",
       "3492                                            TORNADO 1957-06-22 00:00:00   \n",
       "3045                         FLASH FLOODING & MUDSLIDES 1976-06-25 00:00:00   \n",
       "236   SEVERE STORMS, TORNADOES, FLOODING, LANDSLIDES... 2015-04-02 12:00:00   \n",
       "2187                                  HURRICANE GEORGES 1998-09-28 00:00:00   \n",
       "2386                                     HURRICANE OPAL 1995-10-04 00:00:00   \n",
       "\n",
       "       Incident End Date    State name  \n",
       "3492 1957-06-22 00:00:00  North Dakota  \n",
       "3045 1976-06-25 00:00:00  South Dakota  \n",
       "236  2015-04-17 23:59:00      Kentucky  \n",
       "2187 1998-10-05 00:00:00   Mississippi  \n",
       "2386 1995-10-08 00:00:00       Alabama  "
      ]
     },
     "execution_count": 18,
     "metadata": {},
     "output_type": "execute_result"
    }
   ],
   "source": [
    "df_weather_disasters.sample(5)"
   ]
  },
  {
   "cell_type": "markdown",
   "metadata": {},
   "source": [
    "The first interesting thing is to consider the number of weather disasters by year."
   ]
  },
  {
   "cell_type": "code",
   "execution_count": 19,
   "metadata": {},
   "outputs": [
    {
     "data": {
      "image/png": "[encoded data removed]",
      "text/plain": [
       "<Figure size 432x288 with 1 Axes>"
      ]
     },
     "metadata": {
      "needs_background": "light"
     },
     "output_type": "display_data"
    }
   ],
   "source": [
    "final_df = df_weather_disasters.set_index(\"Declaration Date\").to_period(\"Y\")\n",
    "disasters_by_year = final_df.groupby(level=0).count()\n",
    "# Let's create the plot\n",
    "ax = disasters_by_year.rename({\"Title\":\"# Disasters\"}, axis=1).plot(y='# Disasters', use_index=True);\n",
    "ax.set_title(\"# of weather disasters by year\");\n",
    "ax.set_xlabel(\"Year\");\n",
    "ax.set_ylabel(\"# of Disasters\");\n",
    "ax.legend().set_visible(False);"
   ]
  },
  {
   "cell_type": "markdown",
   "metadata": {},
   "source": [
    "Another plot is the number of weather disasters by state."
   ]
  },
  {
   "cell_type": "code",
   "execution_count": 20,
   "metadata": {},
   "outputs": [
    {
     "data": {
      "image/png": "[encoded data removed]",
      "text/plain": [
       "<Figure size 432x288 with 1 Axes>"
      ]
     },
     "metadata": {
      "needs_background": "light"
     },
     "output_type": "display_data"
    }
   ],
   "source": [
    "ax = df_weather_disasters.groupby([\"State name\"]).count().sort_values('Title', ascending=False).plot.bar(y='Title', use_index=True, width=1);\n",
    "ax.legend().set_visible(False);"
   ]
  },
  {
   "cell_type": "markdown",
   "metadata": {},
   "source": [
    "My final plot consider the number of disasters by state and by incident."
   ]
  },
  {
   "cell_type": "code",
   "execution_count": 21,
   "metadata": {
    "scrolled": true
   },
   "outputs": [
    {
     "data": {
      "text/html": [
       "<div>\n",
       "<style scoped>\n",
       "    .dataframe tbody tr th:only-of-type {\n",
       "        vertical-align: middle;\n",
       "    }\n",
       "\n",
       "    .dataframe tbody tr th {\n",
       "        vertical-align: top;\n",
       "    }\n",
       "\n",
       "    .dataframe thead th {\n",
       "        text-align: right;\n",
       "    }\n",
       "</style>\n",
       "<table border=\"1\" class=\"dataframe\">\n",
       "  <thead>\n",
       "    <tr style=\"text-align: right;\">\n",
       "      <th>Incident Type</th>\n",
       "      <th>Coastal Storm</th>\n",
       "      <th>Drought</th>\n",
       "      <th>Fire</th>\n",
       "      <th>Flood</th>\n",
       "      <th>Freezing</th>\n",
       "      <th>Hurricane</th>\n",
       "      <th>Severe Ice Storm</th>\n",
       "      <th>Severe Storm(s)</th>\n",
       "      <th>Snow</th>\n",
       "      <th>Tornado</th>\n",
       "      <th>Typhoon</th>\n",
       "      <th>Total</th>\n",
       "    </tr>\n",
       "    <tr>\n",
       "      <th>State name</th>\n",
       "      <th></th>\n",
       "      <th></th>\n",
       "      <th></th>\n",
       "      <th></th>\n",
       "      <th></th>\n",
       "      <th></th>\n",
       "      <th></th>\n",
       "      <th></th>\n",
       "      <th></th>\n",
       "      <th></th>\n",
       "      <th></th>\n",
       "      <th></th>\n",
       "    </tr>\n",
       "  </thead>\n",
       "  <tbody>\n",
       "    <tr>\n",
       "      <th>Texas</th>\n",
       "      <td>2</td>\n",
       "      <td>1</td>\n",
       "      <td>152</td>\n",
       "      <td>38</td>\n",
       "      <td>2</td>\n",
       "      <td>21</td>\n",
       "      <td>1</td>\n",
       "      <td>20</td>\n",
       "      <td>0</td>\n",
       "      <td>15</td>\n",
       "      <td>0</td>\n",
       "      <td>252</td>\n",
       "    </tr>\n",
       "    <tr>\n",
       "      <th>California</th>\n",
       "      <td>2</td>\n",
       "      <td>1</td>\n",
       "      <td>147</td>\n",
       "      <td>37</td>\n",
       "      <td>3</td>\n",
       "      <td>1</td>\n",
       "      <td>0</td>\n",
       "      <td>12</td>\n",
       "      <td>0</td>\n",
       "      <td>0</td>\n",
       "      <td>0</td>\n",
       "      <td>203</td>\n",
       "    </tr>\n",
       "    <tr>\n",
       "      <th>Oklahoma</th>\n",
       "      <td>0</td>\n",
       "      <td>0</td>\n",
       "      <td>76</td>\n",
       "      <td>22</td>\n",
       "      <td>0</td>\n",
       "      <td>1</td>\n",
       "      <td>9</td>\n",
       "      <td>41</td>\n",
       "      <td>1</td>\n",
       "      <td>11</td>\n",
       "      <td>0</td>\n",
       "      <td>161</td>\n",
       "    </tr>\n",
       "    <tr>\n",
       "      <th>Florida</th>\n",
       "      <td>2</td>\n",
       "      <td>0</td>\n",
       "      <td>42</td>\n",
       "      <td>13</td>\n",
       "      <td>6</td>\n",
       "      <td>40</td>\n",
       "      <td>0</td>\n",
       "      <td>22</td>\n",
       "      <td>0</td>\n",
       "      <td>1</td>\n",
       "      <td>0</td>\n",
       "      <td>126</td>\n",
       "    </tr>\n",
       "    <tr>\n",
       "      <th>Washington</th>\n",
       "      <td>1</td>\n",
       "      <td>1</td>\n",
       "      <td>43</td>\n",
       "      <td>30</td>\n",
       "      <td>0</td>\n",
       "      <td>0</td>\n",
       "      <td>1</td>\n",
       "      <td>17</td>\n",
       "      <td>0</td>\n",
       "      <td>0</td>\n",
       "      <td>0</td>\n",
       "      <td>93</td>\n",
       "    </tr>\n",
       "  </tbody>\n",
       "</table>\n",
       "</div>"
      ],
      "text/plain": [
       "Incident Type  Coastal Storm  Drought  Fire  Flood  Freezing  Hurricane  \\\n",
       "State name                                                                \n",
       "Texas                      2        1   152     38         2         21   \n",
       "California                 2        1   147     37         3          1   \n",
       "Oklahoma                   0        0    76     22         0          1   \n",
       "Florida                    2        0    42     13         6         40   \n",
       "Washington                 1        1    43     30         0          0   \n",
       "\n",
       "Incident Type  Severe Ice Storm  Severe Storm(s)  Snow  Tornado  Typhoon  \\\n",
       "State name                                                                 \n",
       "Texas                         1               20     0       15        0   \n",
       "California                    0               12     0        0        0   \n",
       "Oklahoma                      9               41     1       11        0   \n",
       "Florida                       0               22     0        1        0   \n",
       "Washington                    1               17     0        0        0   \n",
       "\n",
       "Incident Type  Total  \n",
       "State name            \n",
       "Texas            252  \n",
       "California       203  \n",
       "Oklahoma         161  \n",
       "Florida          126  \n",
       "Washington        93  "
      ]
     },
     "execution_count": 21,
     "metadata": {},
     "output_type": "execute_result"
    }
   ],
   "source": [
    "df_by_state_incident = (df_weather_disasters[[\"State name\", \"Incident Type\", \"Title\"]]\n",
    "                        .groupby([\"State name\", \"Incident Type\"])\n",
    "                        .count()\n",
    "                        .unstack(\"Incident Type\").fillna(0).astype(int))\n",
    "df_by_state_incident.loc[:,(\"Title\",'Total')] = df_by_state_incident.sum(axis=1)\n",
    "df_by_state_incident.columns = df_by_state_incident.columns.droplevel()\n",
    "df_by_state_incident.sort_values(by=[\"Total\"], inplace=True, ascending=False)\n",
    "df_by_state_incident.head()"
   ]
  },
  {
   "cell_type": "code",
   "execution_count": 29,
   "metadata": {},
   "outputs": [
    {
     "data": {
      "image/png": "[encoded data removed]",
      "text/plain": [
       "<Figure size 1440x720 with 1 Axes>"
      ]
     },
     "metadata": {
      "needs_background": "light"
     },
     "output_type": "display_data"
    }
   ],
   "source": [
    "ax = df_by_state_incident.drop(\"Total\",axis=1).plot(kind='bar', stacked=True, width=1)\n",
    "ax.get_figure().set_size_inches(20,10)\n",
    "ax.set_ylabel(\"# of Disasters\");\n",
    "ax.set_title(\"# of weather disasters by state and incident type in the USA\");"
   ]
  }
 ],
 "metadata": {
  "kernelspec": {
   "display_name": "venv",
   "language": "python",
   "name": "venv"
  },
  "language_info": {
   "codemirror_mode": {
    "name": "ipython",
    "version": 3
   },
   "file_extension": ".py",
   "mimetype": "text/x-python",
   "name": "python",
   "nbconvert_exporter": "python",
   "pygments_lexer": "ipython3",
   "version": "3.6.4"
  }
 },
 "nbformat": 4,
 "nbformat_minor": 2
}
